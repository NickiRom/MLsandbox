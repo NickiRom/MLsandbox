{
 "cells": [
  {
   "cell_type": "markdown",
   "metadata": {},
   "source": [
    "# Isotonic regression\n",
    "\n",
    "For [classifier calibration](http://fastml.com/classifier-calibration-with-platts-scaling-and-isotonic-regression/)"
   ]
  },
  {
   "cell_type": "code",
   "execution_count": 43,
   "metadata": {
    "collapsed": false
   },
   "outputs": [
    {
     "name": "stdout",
     "output_type": "stream",
     "text": [
      "Populating the interactive namespace from numpy and matplotlib\n"
     ]
    }
   ],
   "source": [
    "import numpy as np\n",
    "%pylab inline\n",
    "\n",
    "from sklearn.isotonic import IsotonicRegression\n",
    "from scipy.interpolate import UnivariateSpline\n",
    "from scipy.interpolate import LSQUnivariateSpline"
   ]
  },
  {
   "cell_type": "code",
   "execution_count": 44,
   "metadata": {
    "collapsed": false
   },
   "outputs": [],
   "source": [
    "n = 100\n",
    "x = np.arange(n)\n",
    "y = randint(-50, 50, size=(n,)) + 50. * np.log(1 + np.arange(n))"
   ]
  },
  {
   "cell_type": "code",
   "execution_count": 109,
   "metadata": {
    "collapsed": false
   },
   "outputs": [
    {
     "name": "stdout",
     "output_type": "stream",
     "text": [
      "[2.0, 3.0, 4.0, 5.0, 6.0, 7.0, 8.0, 9.0, 10.0, 11.0, 12.0, 13.0, 14.0, 15.0, 16.0, 17.0, 18.0, 19.0, 20.0, 21.0, 22.0, 24.0, 25.0, 29.0, 30.0, 31.0, 32.0, 33.0, 34.0, 35.0, 36.0, 37.0, 38.0, 41.0, 43.0, 44.0, 45.0, 46.0, 47.0, 48.0, 49.0, 50.0, 75.0, 77.0, 78.0, 79.0, 80.0, 81.0, 83.0, 84.0, 87.0, 93.0, 96.0, 98.0]\n"
     ]
    }
   ],
   "source": [
    "ir = IsotonicRegression()\n",
    "y_ = ir.fit_transform(x,y)\n",
    "\n",
    "s = UnivariateSpline(x, y_, s=1)\n",
    "ys = s(x)\n",
    "\n",
    "# get knots, but note that the first and last knots may not have \n",
    "# a data point after them, and cannot be used as knots in the spline\n",
    "knots = [knot for knot in s.get_knots()[1:55]]\n",
    "print knots\n",
    "\n",
    "lsqs = LSQUnivariateSpline(x, y_, t=knots, k=5)\n",
    "yls = lsqs(x)"
   ]
  },
  {
   "cell_type": "code",
   "execution_count": 108,
   "metadata": {
    "collapsed": false
   },
   "outputs": [
    {
     "data": {
      "text/plain": [
       "[<matplotlib.lines.Line2D at 0x10c7f5fd0>]"
      ]
     },
     "execution_count": 108,
     "metadata": {},
     "output_type": "execute_result"
    },
    {
     "data": {
      "image/png": "[encoded data removed]",
      "text/plain": [
       "<matplotlib.figure.Figure at 0x10bd768d0>"
      ]
     },
     "metadata": {},
     "output_type": "display_data"
    }
   ],
   "source": [
    "plt.plot(x, y, 'r.', markersize=12)\n",
    "plt.plot(x, y_, 'g.-', markersize=12)\n",
    "plt.plot(x, yls, 'b-', markersize=12)"
   ]
  },
  {
   "cell_type": "code",
   "execution_count": 20,
   "metadata": {
    "collapsed": false
   },
   "outputs": [
    {
     "name": "stdout",
     "output_type": "stream",
     "text": [
      "0.2\n",
      "1.18\n",
      "2.16\n",
      "3.14\n",
      "4.12\n",
      "5.1\n",
      "6.08\n",
      "7.06\n",
      "8.04\n",
      "9.02\n",
      "10.0\n"
     ]
    }
   ],
   "source": [
    "def price_map(min_bid, max_bid, scores):\n",
    "    m = max_bid - min_bid\n",
    "    b = min_bid\n",
    "    return (m*x + b for x in scores)\n",
    "\n",
    "gen = price_map(0.2, 10, np.arange(0, 1.1, 0.10))\n",
    "for g in gen:\n",
    "    print g"
   ]
  },
  {
   "cell_type": "code",
   "execution_count": 116,
   "metadata": {
    "collapsed": false
   },
   "outputs": [
    {
     "data": {
      "text/plain": [
       "0.63988882252185109"
      ]
     },
     "execution_count": 116,
     "metadata": {},
     "output_type": "execute_result"
    }
   ],
   "source": [
    "ir.score(x, y, yls)"
   ]
  }
 ],
 "metadata": {
  "kernelspec": {
   "display_name": "Python 2",
   "language": "python",
   "name": "python2"
  },
  "language_info": {
   "codemirror_mode": {
    "name": "ipython",
    "version": 2
   },
   "file_extension": ".py",
   "mimetype": "text/x-python",
   "name": "python",
   "nbconvert_exporter": "python",
   "pygments_lexer": "ipython2",
   "version": "2.7.10"
  }
 },
 "nbformat": 4,
 "nbformat_minor": 0
}
