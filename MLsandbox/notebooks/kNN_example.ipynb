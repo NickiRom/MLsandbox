{
 "cells": [
  {
   "cell_type": "code",
   "execution_count": 73,
   "metadata": {
    "collapsed": false
   },
   "outputs": [
    {
     "name": "stdout",
     "output_type": "stream",
     "text": [
      "Populating the interactive namespace from numpy and matplotlib\n",
      "Index([u'site_id', u'strategy_id', u'list_type', u'line_id', u'adv_id',\n",
      "       u'adv_vertical', u'name', u'goal', u'price', u'limit', u'avg_bid',\n",
      "       u'max_bid', u'impressions', u'conversions', u'avg_imps_site',\n",
      "       u'stdev_imps_site', u'win_rate_site', u'win_rate_strat', u'cvr_strat',\n",
      "       u'cvr', u'line_cvr', u'hist_zscore', u'overlap', u'target_variable',\n",
      "       u'win_rate_site_table', u'win_rate_strat_table'],\n",
      "      dtype='object')\n"
     ]
    },
    {
     "data": {
      "text/html": [
       "<div>\n",
       "<table border=\"1\" class=\"dataframe\">\n",
       "  <thead>\n",
       "    <tr style=\"text-align: right;\">\n",
       "      <th></th>\n",
       "      <th>site_id</th>\n",
       "      <th>strategy_id</th>\n",
       "      <th>list_type</th>\n",
       "      <th>line_id</th>\n",
       "      <th>adv_id</th>\n",
       "      <th>adv_vertical</th>\n",
       "      <th>name</th>\n",
       "      <th>goal</th>\n",
       "      <th>price</th>\n",
       "      <th>limit</th>\n",
       "      <th>...</th>\n",
       "      <th>win_rate_site</th>\n",
       "      <th>win_rate_strat</th>\n",
       "      <th>cvr_strat</th>\n",
       "      <th>cvr</th>\n",
       "      <th>line_cvr</th>\n",
       "      <th>hist_zscore</th>\n",
       "      <th>overlap</th>\n",
       "      <th>target_variable</th>\n",
       "      <th>win_rate_site_table</th>\n",
       "      <th>win_rate_strat_table</th>\n",
       "    </tr>\n",
       "  </thead>\n",
       "  <tbody>\n",
       "    <tr>\n",
       "      <th>0</th>\n",
       "      <td>82932</td>\n",
       "      <td>313729</td>\n",
       "      <td>testing</td>\n",
       "      <td>20049</td>\n",
       "      <td>206.0</td>\n",
       "      <td>Travel</td>\n",
       "      <td>Nicole</td>\n",
       "      <td>0.0</td>\n",
       "      <td>3.95</td>\n",
       "      <td>10000.0</td>\n",
       "      <td>...</td>\n",
       "      <td>0.423778</td>\n",
       "      <td>0.111431</td>\n",
       "      <td>0.0</td>\n",
       "      <td>0.001197</td>\n",
       "      <td>0.0</td>\n",
       "      <td>2.708366</td>\n",
       "      <td>0.001066</td>\n",
       "      <td>0</td>\n",
       "      <td>0.450094</td>\n",
       "      <td>0.249479</td>\n",
       "    </tr>\n",
       "    <tr>\n",
       "      <th>1</th>\n",
       "      <td>90474</td>\n",
       "      <td>313729</td>\n",
       "      <td>testing</td>\n",
       "      <td>20049</td>\n",
       "      <td>206.0</td>\n",
       "      <td>Travel</td>\n",
       "      <td>Nicole</td>\n",
       "      <td>0.0</td>\n",
       "      <td>3.95</td>\n",
       "      <td>10000.0</td>\n",
       "      <td>...</td>\n",
       "      <td>0.163010</td>\n",
       "      <td>0.111431</td>\n",
       "      <td>0.0</td>\n",
       "      <td>0.001239</td>\n",
       "      <td>0.0</td>\n",
       "      <td>1.188635</td>\n",
       "      <td>0.000703</td>\n",
       "      <td>0</td>\n",
       "      <td>0.158050</td>\n",
       "      <td>0.249479</td>\n",
       "    </tr>\n",
       "    <tr>\n",
       "      <th>2</th>\n",
       "      <td>92345</td>\n",
       "      <td>313729</td>\n",
       "      <td>testing</td>\n",
       "      <td>20049</td>\n",
       "      <td>206.0</td>\n",
       "      <td>Travel</td>\n",
       "      <td>Nicole</td>\n",
       "      <td>0.0</td>\n",
       "      <td>3.95</td>\n",
       "      <td>10000.0</td>\n",
       "      <td>...</td>\n",
       "      <td>0.318358</td>\n",
       "      <td>0.111431</td>\n",
       "      <td>0.0</td>\n",
       "      <td>0.000729</td>\n",
       "      <td>0.0</td>\n",
       "      <td>1.503285</td>\n",
       "      <td>0.000873</td>\n",
       "      <td>0</td>\n",
       "      <td>0.360591</td>\n",
       "      <td>0.249479</td>\n",
       "    </tr>\n",
       "    <tr>\n",
       "      <th>3</th>\n",
       "      <td>92415</td>\n",
       "      <td>313729</td>\n",
       "      <td>testing</td>\n",
       "      <td>20049</td>\n",
       "      <td>206.0</td>\n",
       "      <td>Travel</td>\n",
       "      <td>Nicole</td>\n",
       "      <td>0.0</td>\n",
       "      <td>3.95</td>\n",
       "      <td>10000.0</td>\n",
       "      <td>...</td>\n",
       "      <td>0.133199</td>\n",
       "      <td>0.111431</td>\n",
       "      <td>0.0</td>\n",
       "      <td>0.005894</td>\n",
       "      <td>0.0</td>\n",
       "      <td>35.153628</td>\n",
       "      <td>0.004614</td>\n",
       "      <td>0</td>\n",
       "      <td>0.113717</td>\n",
       "      <td>0.249479</td>\n",
       "    </tr>\n",
       "    <tr>\n",
       "      <th>4</th>\n",
       "      <td>92425</td>\n",
       "      <td>313729</td>\n",
       "      <td>testing</td>\n",
       "      <td>20049</td>\n",
       "      <td>206.0</td>\n",
       "      <td>Travel</td>\n",
       "      <td>Nicole</td>\n",
       "      <td>0.0</td>\n",
       "      <td>3.95</td>\n",
       "      <td>10000.0</td>\n",
       "      <td>...</td>\n",
       "      <td>0.379310</td>\n",
       "      <td>0.111431</td>\n",
       "      <td>0.0</td>\n",
       "      <td>0.000000</td>\n",
       "      <td>0.0</td>\n",
       "      <td>-0.091378</td>\n",
       "      <td>0.000344</td>\n",
       "      <td>0</td>\n",
       "      <td>0.019308</td>\n",
       "      <td>0.249479</td>\n",
       "    </tr>\n",
       "  </tbody>\n",
       "</table>\n",
       "<p>5 rows × 26 columns</p>\n",
       "</div>"
      ],
      "text/plain": [
       "   site_id  strategy_id list_type  line_id  adv_id adv_vertical    name  goal  \\\n",
       "0    82932       313729   testing    20049   206.0       Travel  Nicole   0.0   \n",
       "1    90474       313729   testing    20049   206.0       Travel  Nicole   0.0   \n",
       "2    92345       313729   testing    20049   206.0       Travel  Nicole   0.0   \n",
       "3    92415       313729   testing    20049   206.0       Travel  Nicole   0.0   \n",
       "4    92425       313729   testing    20049   206.0       Travel  Nicole   0.0   \n",
       "\n",
       "   price    limit          ...           win_rate_site  win_rate_strat  \\\n",
       "0   3.95  10000.0          ...                0.423778        0.111431   \n",
       "1   3.95  10000.0          ...                0.163010        0.111431   \n",
       "2   3.95  10000.0          ...                0.318358        0.111431   \n",
       "3   3.95  10000.0          ...                0.133199        0.111431   \n",
       "4   3.95  10000.0          ...                0.379310        0.111431   \n",
       "\n",
       "   cvr_strat       cvr  line_cvr  hist_zscore   overlap  target_variable  \\\n",
       "0        0.0  0.001197       0.0     2.708366  0.001066                0   \n",
       "1        0.0  0.001239       0.0     1.188635  0.000703                0   \n",
       "2        0.0  0.000729       0.0     1.503285  0.000873                0   \n",
       "3        0.0  0.005894       0.0    35.153628  0.004614                0   \n",
       "4        0.0  0.000000       0.0    -0.091378  0.000344                0   \n",
       "\n",
       "   win_rate_site_table  win_rate_strat_table  \n",
       "0             0.450094              0.249479  \n",
       "1             0.158050              0.249479  \n",
       "2             0.360591              0.249479  \n",
       "3             0.113717              0.249479  \n",
       "4             0.019308              0.249479  \n",
       "\n",
       "[5 rows x 26 columns]"
      ]
     },
     "execution_count": 73,
     "metadata": {},
     "output_type": "execute_result"
    }
   ],
   "source": [
    "import pandas as pd\n",
    "import pylab as pl\n",
    "from sklearn.neighbors import KNeighborsClassifier\n",
    "from sklearn.preprocessing import Imputer, MinMaxScaler\n",
    "from sklearn.metrics import confusion_matrix\n",
    "%pylab inline\n",
    "\n",
    "df = pd.read_csv('../data/sample_data.csv', sep=',', header=0, index_col=0)\n",
    "print df.columns\n",
    "df.head()"
   ]
  },
  {
   "cell_type": "markdown",
   "metadata": {},
   "source": [
    "#### Define the features of interest\n",
    "\n",
    "and drop any rows in those feature columns that have any NaN values.  This is important because the MinMaxScaler does not handle NaN"
   ]
  },
  {
   "cell_type": "code",
   "execution_count": 74,
   "metadata": {
    "collapsed": false
   },
   "outputs": [],
   "source": [
    "subset=['avg_bid', 'max_bid', 'win_rate_site', 'hist_zscore', 'overlap','win_rate_strat', 'target_variable']\n",
    "features = subset[:-1]\n",
    "df = df[subset].dropna(subset=features)"
   ]
  },
  {
   "cell_type": "markdown",
   "metadata": {},
   "source": [
    "#### Scale features for kNN"
   ]
  },
  {
   "cell_type": "code",
   "execution_count": 75,
   "metadata": {
    "collapsed": false
   },
   "outputs": [],
   "source": [
    "min_max_scaler = MinMaxScaler()\n",
    "knn_scaled = min_max_scaler.fit_transform(df[subset])\n",
    "\n",
    "df_knn = pd.DataFrame(knn_scaled, columns=subset)"
   ]
  },
  {
   "cell_type": "markdown",
   "metadata": {},
   "source": [
    "#### Define the test and train set \n",
    "\n",
    "Cross-validation is also a great way to define test/train splits"
   ]
  },
  {
   "cell_type": "code",
   "execution_count": 79,
   "metadata": {
    "collapsed": false
   },
   "outputs": [
    {
     "data": {
      "text/html": [
       "<div>\n",
       "<table border=\"1\" class=\"dataframe\">\n",
       "  <thead>\n",
       "    <tr style=\"text-align: right;\">\n",
       "      <th></th>\n",
       "      <th>avg_bid</th>\n",
       "      <th>max_bid</th>\n",
       "      <th>win_rate_site</th>\n",
       "      <th>hist_zscore</th>\n",
       "      <th>overlap</th>\n",
       "      <th>win_rate_strat</th>\n",
       "      <th>target_variable</th>\n",
       "    </tr>\n",
       "  </thead>\n",
       "  <tbody>\n",
       "    <tr>\n",
       "      <th>5</th>\n",
       "      <td>0.057692</td>\n",
       "      <td>0.591837</td>\n",
       "      <td>0.312920</td>\n",
       "      <td>0.072092</td>\n",
       "      <td>0.018281</td>\n",
       "      <td>0.089926</td>\n",
       "      <td>0.0</td>\n",
       "    </tr>\n",
       "    <tr>\n",
       "      <th>8</th>\n",
       "      <td>0.057692</td>\n",
       "      <td>0.591837</td>\n",
       "      <td>0.023793</td>\n",
       "      <td>0.029022</td>\n",
       "      <td>0.013120</td>\n",
       "      <td>0.089926</td>\n",
       "      <td>0.0</td>\n",
       "    </tr>\n",
       "    <tr>\n",
       "      <th>12</th>\n",
       "      <td>0.057692</td>\n",
       "      <td>0.591837</td>\n",
       "      <td>0.324703</td>\n",
       "      <td>0.021840</td>\n",
       "      <td>0.003979</td>\n",
       "      <td>0.089926</td>\n",
       "      <td>0.0</td>\n",
       "    </tr>\n",
       "    <tr>\n",
       "      <th>14</th>\n",
       "      <td>0.057692</td>\n",
       "      <td>0.591837</td>\n",
       "      <td>0.110881</td>\n",
       "      <td>0.212855</td>\n",
       "      <td>0.019521</td>\n",
       "      <td>0.089926</td>\n",
       "      <td>0.0</td>\n",
       "    </tr>\n",
       "    <tr>\n",
       "      <th>20</th>\n",
       "      <td>0.057692</td>\n",
       "      <td>0.591837</td>\n",
       "      <td>0.305321</td>\n",
       "      <td>0.020175</td>\n",
       "      <td>0.000404</td>\n",
       "      <td>0.089926</td>\n",
       "      <td>0.0</td>\n",
       "    </tr>\n",
       "  </tbody>\n",
       "</table>\n",
       "</div>"
      ],
      "text/plain": [
       "     avg_bid   max_bid  win_rate_site  hist_zscore   overlap  win_rate_strat  \\\n",
       "5   0.057692  0.591837       0.312920     0.072092  0.018281        0.089926   \n",
       "8   0.057692  0.591837       0.023793     0.029022  0.013120        0.089926   \n",
       "12  0.057692  0.591837       0.324703     0.021840  0.003979        0.089926   \n",
       "14  0.057692  0.591837       0.110881     0.212855  0.019521        0.089926   \n",
       "20  0.057692  0.591837       0.305321     0.020175  0.000404        0.089926   \n",
       "\n",
       "    target_variable  \n",
       "5               0.0  \n",
       "8               0.0  \n",
       "12              0.0  \n",
       "14              0.0  \n",
       "20              0.0  "
      ]
     },
     "execution_count": 79,
     "metadata": {},
     "output_type": "execute_result"
    }
   ],
   "source": [
    "test_idx = np.random.uniform(0, 1, len(df_knn)) <= 0.3\n",
    "train = df_knn[test_idx==True]\n",
    "test = df_knn[test_idx==False]\n",
    "train.head()"
   ]
  },
  {
   "cell_type": "markdown",
   "metadata": {},
   "source": [
    "#### Test performance of kNN for different values of k\n",
    "\n",
    "**When choosing a value of k:**\n",
    "- never select a k-value that is a multiple of your number of classes\n",
    "- in this case, since there are two classes, we iterate from k=1 to k=11, odds only\n",
    "- this is because kNN uses majority voting of the k neighbors.  With k being a multiple of the number of classes, there is a chance for ties."
   ]
  },
  {
   "cell_type": "code",
   "execution_count": 80,
   "metadata": {
    "collapsed": false
   },
   "outputs": [
    {
     "name": "stdout",
     "output_type": "stream",
     "text": [
      "Neighbors: 1, Accuracy: 0.981878, Recall: 0.191781, Number wrong: 11, Total positive: 607\n",
      "[[582   2]\n",
      " [  9  14]]\n",
      "Neighbors: 3, Accuracy: 0.981878, Recall: 0.178082, Number wrong: 11, Total positive: 607\n",
      "[[583   1]\n",
      " [ 10  13]]\n",
      "Neighbors: 5, Accuracy: 0.978583, Recall: 0.150685, Number wrong: 13, Total positive: 607\n",
      "[[583   1]\n",
      " [ 12  11]]\n",
      "Neighbors: 7, Accuracy: 0.967051, Recall: 0.041096, Number wrong: 20, Total positive: 607\n",
      "[[584   0]\n",
      " [ 20   3]]\n",
      "Neighbors: 9, Accuracy: 0.963756, Recall: 0.013699, Number wrong: 22, Total positive: 607\n",
      "[[584   0]\n",
      " [ 22   1]]\n"
     ]
    }
   ],
   "source": [
    "results = []\n",
    "num_features = len(features)\n",
    "\n",
    "for n in range(1, 11, 2):\n",
    "    clf = KNeighborsClassifier(n_neighbors=n, weights='distance')\n",
    "    clf.fit(train.ix[:,:num_features], train.ix[:,num_features])\n",
    "    preds = clf.predict(test.ix[:,:(num_features)])\n",
    "    accuracy = np.where(preds==test.ix[:,num_features], 1, 0).sum() / float(len(test))\n",
    "    recall = np.where((preds==test.ix[:,num_features])&(test.ix[:,num_features]==1), 1, 0).sum()/float(np.where(test==1,1,0).sum())\n",
    "    num_wrong = np.where(preds!=test.ix[:,num_features], 1, 0).sum()\n",
    "    print \"Neighbors: %d, Accuracy: %3f, Recall: %3f, Number wrong: %d, Total positive: %d\" % (n, accuracy, recall, num_wrong, len(test))\n",
    "    print confusion_matrix(test.ix[:,num_features], preds)\n",
    "    results.append([n, accuracy, recall])\n",
    "\n",
    "results = pd.DataFrame(results, columns=[\"n\", \"accuracy\", \"recall\"])"
   ]
  },
  {
   "cell_type": "markdown",
   "metadata": {},
   "source": [
    "#### Plot accuracy and recall for each value of k"
   ]
  },
  {
   "cell_type": "code",
   "execution_count": 81,
   "metadata": {
    "collapsed": false
   },
   "outputs": [
    {
     "data": {
      "image/png": "[encoded data removed]",
      "text/plain": [
       "<matplotlib.figure.Figure at 0x10be33ed0>"
      ]
     },
     "metadata": {},
     "output_type": "display_data"
    }
   ],
   "source": [
    "plt.rc(\"lines\", lw=2, marker='o')\n",
    "\n",
    "pl.plot(results.n, results.accuracy)\n",
    "pl.plot(results.n, results.recall)\n",
    "pl.ylim([0,1])\n",
    "pl.title(\"Accuracy with Increasing K\")\n",
    "pl.show()"
   ]
  },
  {
   "cell_type": "markdown",
   "metadata": {
    "collapsed": false
   },
   "source": [
    "#### Accuracy is good but recall is terrible.  Why?\n",
    "\n",
    "**kNN is very sensitive to scaling of features.** Some features with the same units (such as $) may be best scaled in relation to the range of all features with those units, not just the range of that feature itself.  Other features may not need to be scaled at all.  For more information, refer here: [About Feature Scaling and Normalization](http://sebastianraschka.com/Articles/2014_about_feature_scaling.html)\n",
    "\n",
    "**kNN requires all features to be categorical or all continuous.**  If we did want to encode categorical features (such as advertiser_id) in this model with the other continuous features, we might use one-hot encoding or find a distance metric (e.g. Jaccard similarity) that maps advertisers according to the overlap in converters.  \n",
    "\n",
    "For the second example, you'd have a similarity matrix for all advertisers, and for an incoming feature set with advertiser M, you'd select the vector corresponding to the similarity of all advertisers to advertiser M.  That similarity metric would be used to map the distance from the origin in the direction of advertiser_id.  [More info on StackExchange](http://stackoverflow.com/questions/13625849/knn-classification-with-categorical-data)\n"
   ]
  }
 ],
 "metadata": {
  "kernelspec": {
   "display_name": "Python 2",
   "language": "python",
   "name": "python2"
  },
  "language_info": {
   "codemirror_mode": {
    "name": "ipython",
    "version": 2
   },
   "file_extension": ".py",
   "mimetype": "text/x-python",
   "name": "python",
   "nbconvert_exporter": "python",
   "pygments_lexer": "ipython2",
   "version": "2.7.10"
  }
 },
 "nbformat": 4,
 "nbformat_minor": 0
}
