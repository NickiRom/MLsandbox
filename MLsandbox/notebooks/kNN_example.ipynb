{
 "cells": [
  {
   "cell_type": "code",
   "execution_count": 82,
   "metadata": {
    "collapsed": false
   },
   "outputs": [
    {
     "name": "stdout",
     "output_type": "stream",
     "text": [
      "Populating the interactive namespace from numpy and matplotlib\n",
      "Index([u'site_id', u'strategy_id', u'list_type', u'line_id', u'adv_id',\n",
      "       u'adv_vertical', u'name', u'goal', u'price', u'limit', u'avg_bid',\n",
      "       u'max_bid', u'impressions', u'conversions', u'avg_imps_site',\n",
      "       u'stdev_imps_site', u'win_rate_site', u'win_rate_strat', u'cvr_strat',\n",
      "       u'cvr', u'line_cvr', u'hist_zscore', u'overlap', u'target_variable',\n",
      "       u'win_rate_site_table', u'win_rate_strat_table'],\n",
      "      dtype='object')\n"
     ]
    },
    {
     "name": "stderr",
     "output_type": "stream",
     "text": [
      "WARNING: pylab import has clobbered these variables: ['clf', 'test']\n",
      "`%matplotlib` prevents importing * from pylab and numpy\n"
     ]
    },
    {
     "data": {
      "text/html": [
       "<div>\n",
       "<table border=\"1\" class=\"dataframe\">\n",
       "  <thead>\n",
       "    <tr style=\"text-align: right;\">\n",
       "      <th></th>\n",
       "      <th>site_id</th>\n",
       "      <th>strategy_id</th>\n",
       "      <th>list_type</th>\n",
       "      <th>line_id</th>\n",
       "      <th>adv_id</th>\n",
       "      <th>adv_vertical</th>\n",
       "      <th>name</th>\n",
       "      <th>goal</th>\n",
       "      <th>price</th>\n",
       "      <th>limit</th>\n",
       "      <th>...</th>\n",
       "      <th>win_rate_site</th>\n",
       "      <th>win_rate_strat</th>\n",
       "      <th>cvr_strat</th>\n",
       "      <th>cvr</th>\n",
       "      <th>line_cvr</th>\n",
       "      <th>hist_zscore</th>\n",
       "      <th>overlap</th>\n",
       "      <th>target_variable</th>\n",
       "      <th>win_rate_site_table</th>\n",
       "      <th>win_rate_strat_table</th>\n",
       "    </tr>\n",
       "  </thead>\n",
       "  <tbody>\n",
       "    <tr>\n",
       "      <th>0</th>\n",
       "      <td>82932</td>\n",
       "      <td>313729</td>\n",
       "      <td>testing</td>\n",
       "      <td>20049</td>\n",
       "      <td>206</td>\n",
       "      <td>Travel</td>\n",
       "      <td>Nicole</td>\n",
       "      <td>0</td>\n",
       "      <td>3.95</td>\n",
       "      <td>10000</td>\n",
       "      <td>...</td>\n",
       "      <td>0.423778</td>\n",
       "      <td>0.111431</td>\n",
       "      <td>0</td>\n",
       "      <td>0.001197</td>\n",
       "      <td>0</td>\n",
       "      <td>2.708366</td>\n",
       "      <td>0.001066</td>\n",
       "      <td>0</td>\n",
       "      <td>0.450094</td>\n",
       "      <td>0.249479</td>\n",
       "    </tr>\n",
       "    <tr>\n",
       "      <th>1</th>\n",
       "      <td>90474</td>\n",
       "      <td>313729</td>\n",
       "      <td>testing</td>\n",
       "      <td>20049</td>\n",
       "      <td>206</td>\n",
       "      <td>Travel</td>\n",
       "      <td>Nicole</td>\n",
       "      <td>0</td>\n",
       "      <td>3.95</td>\n",
       "      <td>10000</td>\n",
       "      <td>...</td>\n",
       "      <td>0.163010</td>\n",
       "      <td>0.111431</td>\n",
       "      <td>0</td>\n",
       "      <td>0.001239</td>\n",
       "      <td>0</td>\n",
       "      <td>1.188635</td>\n",
       "      <td>0.000703</td>\n",
       "      <td>0</td>\n",
       "      <td>0.158050</td>\n",
       "      <td>0.249479</td>\n",
       "    </tr>\n",
       "    <tr>\n",
       "      <th>2</th>\n",
       "      <td>92345</td>\n",
       "      <td>313729</td>\n",
       "      <td>testing</td>\n",
       "      <td>20049</td>\n",
       "      <td>206</td>\n",
       "      <td>Travel</td>\n",
       "      <td>Nicole</td>\n",
       "      <td>0</td>\n",
       "      <td>3.95</td>\n",
       "      <td>10000</td>\n",
       "      <td>...</td>\n",
       "      <td>0.318358</td>\n",
       "      <td>0.111431</td>\n",
       "      <td>0</td>\n",
       "      <td>0.000729</td>\n",
       "      <td>0</td>\n",
       "      <td>1.503285</td>\n",
       "      <td>0.000873</td>\n",
       "      <td>0</td>\n",
       "      <td>0.360591</td>\n",
       "      <td>0.249479</td>\n",
       "    </tr>\n",
       "    <tr>\n",
       "      <th>3</th>\n",
       "      <td>92415</td>\n",
       "      <td>313729</td>\n",
       "      <td>testing</td>\n",
       "      <td>20049</td>\n",
       "      <td>206</td>\n",
       "      <td>Travel</td>\n",
       "      <td>Nicole</td>\n",
       "      <td>0</td>\n",
       "      <td>3.95</td>\n",
       "      <td>10000</td>\n",
       "      <td>...</td>\n",
       "      <td>0.133199</td>\n",
       "      <td>0.111431</td>\n",
       "      <td>0</td>\n",
       "      <td>0.005894</td>\n",
       "      <td>0</td>\n",
       "      <td>35.153628</td>\n",
       "      <td>0.004614</td>\n",
       "      <td>0</td>\n",
       "      <td>0.113717</td>\n",
       "      <td>0.249479</td>\n",
       "    </tr>\n",
       "    <tr>\n",
       "      <th>4</th>\n",
       "      <td>92425</td>\n",
       "      <td>313729</td>\n",
       "      <td>testing</td>\n",
       "      <td>20049</td>\n",
       "      <td>206</td>\n",
       "      <td>Travel</td>\n",
       "      <td>Nicole</td>\n",
       "      <td>0</td>\n",
       "      <td>3.95</td>\n",
       "      <td>10000</td>\n",
       "      <td>...</td>\n",
       "      <td>0.379310</td>\n",
       "      <td>0.111431</td>\n",
       "      <td>0</td>\n",
       "      <td>0.000000</td>\n",
       "      <td>0</td>\n",
       "      <td>-0.091378</td>\n",
       "      <td>0.000344</td>\n",
       "      <td>0</td>\n",
       "      <td>0.019308</td>\n",
       "      <td>0.249479</td>\n",
       "    </tr>\n",
       "  </tbody>\n",
       "</table>\n",
       "<p>5 rows × 26 columns</p>\n",
       "</div>"
      ],
      "text/plain": [
       "   site_id  strategy_id list_type  line_id  adv_id adv_vertical    name  goal  \\\n",
       "0    82932       313729   testing    20049     206       Travel  Nicole     0   \n",
       "1    90474       313729   testing    20049     206       Travel  Nicole     0   \n",
       "2    92345       313729   testing    20049     206       Travel  Nicole     0   \n",
       "3    92415       313729   testing    20049     206       Travel  Nicole     0   \n",
       "4    92425       313729   testing    20049     206       Travel  Nicole     0   \n",
       "\n",
       "   price  limit          ...           win_rate_site  win_rate_strat  \\\n",
       "0   3.95  10000          ...                0.423778        0.111431   \n",
       "1   3.95  10000          ...                0.163010        0.111431   \n",
       "2   3.95  10000          ...                0.318358        0.111431   \n",
       "3   3.95  10000          ...                0.133199        0.111431   \n",
       "4   3.95  10000          ...                0.379310        0.111431   \n",
       "\n",
       "   cvr_strat       cvr  line_cvr  hist_zscore   overlap  target_variable  \\\n",
       "0          0  0.001197         0     2.708366  0.001066                0   \n",
       "1          0  0.001239         0     1.188635  0.000703                0   \n",
       "2          0  0.000729         0     1.503285  0.000873                0   \n",
       "3          0  0.005894         0    35.153628  0.004614                0   \n",
       "4          0  0.000000         0    -0.091378  0.000344                0   \n",
       "\n",
       "   win_rate_site_table  win_rate_strat_table  \n",
       "0             0.450094              0.249479  \n",
       "1             0.158050              0.249479  \n",
       "2             0.360591              0.249479  \n",
       "3             0.113717              0.249479  \n",
       "4             0.019308              0.249479  \n",
       "\n",
       "[5 rows x 26 columns]"
      ]
     },
     "execution_count": 82,
     "metadata": {},
     "output_type": "execute_result"
    }
   ],
   "source": [
    "import pandas as pd\n",
    "import pylab as pl\n",
    "from sklearn.neighbors import KNeighborsClassifier\n",
    "from sklearn.preprocessing import Imputer, MinMaxScaler\n",
    "from sklearn.metrics import confusion_matrix\n",
    "%pylab inline\n",
    "\n",
    "df = pd.read_csv('../data/sample_data.csv', sep=',', header=0, index_col=0)\n",
    "print df.columns\n",
    "df.head()"
   ]
  },
  {
   "cell_type": "markdown",
   "metadata": {},
   "source": [
    "#### Define the features of interest\n",
    "\n",
    "and drop any rows in those feature columns that have any NaN values"
   ]
  },
  {
   "cell_type": "code",
   "execution_count": 95,
   "metadata": {
    "collapsed": false
   },
   "outputs": [
    {
     "data": {
      "text/html": [
       "<div>\n",
       "<table border=\"1\" class=\"dataframe\">\n",
       "  <thead>\n",
       "    <tr style=\"text-align: right;\">\n",
       "      <th></th>\n",
       "      <th>hist_zscore</th>\n",
       "      <th>overlap</th>\n",
       "      <th>avg_bid</th>\n",
       "      <th>win_rate_strat</th>\n",
       "      <th>goal</th>\n",
       "      <th>target_variable</th>\n",
       "    </tr>\n",
       "  </thead>\n",
       "  <tbody>\n",
       "    <tr>\n",
       "      <th>0</th>\n",
       "      <td>2.708366</td>\n",
       "      <td>0.001066</td>\n",
       "      <td>2.75</td>\n",
       "      <td>0.111431</td>\n",
       "      <td>0</td>\n",
       "      <td>0</td>\n",
       "    </tr>\n",
       "    <tr>\n",
       "      <th>1</th>\n",
       "      <td>1.188635</td>\n",
       "      <td>0.000703</td>\n",
       "      <td>2.75</td>\n",
       "      <td>0.111431</td>\n",
       "      <td>0</td>\n",
       "      <td>0</td>\n",
       "    </tr>\n",
       "    <tr>\n",
       "      <th>2</th>\n",
       "      <td>1.503285</td>\n",
       "      <td>0.000873</td>\n",
       "      <td>2.75</td>\n",
       "      <td>0.111431</td>\n",
       "      <td>0</td>\n",
       "      <td>0</td>\n",
       "    </tr>\n",
       "    <tr>\n",
       "      <th>3</th>\n",
       "      <td>35.153628</td>\n",
       "      <td>0.004614</td>\n",
       "      <td>2.75</td>\n",
       "      <td>0.111431</td>\n",
       "      <td>0</td>\n",
       "      <td>0</td>\n",
       "    </tr>\n",
       "    <tr>\n",
       "      <th>4</th>\n",
       "      <td>-0.091378</td>\n",
       "      <td>0.000344</td>\n",
       "      <td>2.75</td>\n",
       "      <td>0.111431</td>\n",
       "      <td>0</td>\n",
       "      <td>0</td>\n",
       "    </tr>\n",
       "  </tbody>\n",
       "</table>\n",
       "</div>"
      ],
      "text/plain": [
       "   hist_zscore   overlap  avg_bid  win_rate_strat  goal  target_variable\n",
       "0     2.708366  0.001066     2.75        0.111431     0                0\n",
       "1     1.188635  0.000703     2.75        0.111431     0                0\n",
       "2     1.503285  0.000873     2.75        0.111431     0                0\n",
       "3    35.153628  0.004614     2.75        0.111431     0                0\n",
       "4    -0.091378  0.000344     2.75        0.111431     0                0"
      ]
     },
     "execution_count": 95,
     "metadata": {},
     "output_type": "execute_result"
    }
   ],
   "source": [
    "features = ['hist_zscore', 'overlap', 'avg_bid', 'win_rate_strat', 'goal', 'target_variable']\n",
    "df = df[features].dropna(subset=features[:1])\n",
    "df.head()"
   ]
  },
  {
   "cell_type": "code",
   "execution_count": 84,
   "metadata": {
    "collapsed": false
   },
   "outputs": [],
   "source": [
    "min_max_scaler = MinMaxScaler()\n",
    "knn_scaled = min_max_scaler.fit_transform(df[features])\n",
    "#df_knn.ix[:,:5] = df_knn.ix[:,:5].apply(lambda x: MinMaxScaler().fit_transform(x.reshape(1,1)))\n",
    "df_knn = pd.DataFrame(knn_scaled, columns=features)"
   ]
  },
  {
   "cell_type": "code",
   "execution_count": 85,
   "metadata": {
    "collapsed": false
   },
   "outputs": [
    {
     "name": "stdout",
     "output_type": "stream",
     "text": [
      "1010 1010\n"
     ]
    },
    {
     "data": {
      "text/html": [
       "<div>\n",
       "<table border=\"1\" class=\"dataframe\">\n",
       "  <thead>\n",
       "    <tr style=\"text-align: right;\">\n",
       "      <th></th>\n",
       "      <th>hist_zscore</th>\n",
       "      <th>overlap</th>\n",
       "      <th>avg_bid</th>\n",
       "      <th>win_rate_strat</th>\n",
       "      <th>goal</th>\n",
       "      <th>target_variable</th>\n",
       "    </tr>\n",
       "  </thead>\n",
       "  <tbody>\n",
       "    <tr>\n",
       "      <th>1</th>\n",
       "      <td>0.020827</td>\n",
       "      <td>0.004296</td>\n",
       "      <td>0.057692</td>\n",
       "      <td>0.089926</td>\n",
       "      <td>0</td>\n",
       "      <td>0</td>\n",
       "    </tr>\n",
       "    <tr>\n",
       "      <th>2</th>\n",
       "      <td>0.022320</td>\n",
       "      <td>0.005334</td>\n",
       "      <td>0.057692</td>\n",
       "      <td>0.089926</td>\n",
       "      <td>0</td>\n",
       "      <td>0</td>\n",
       "    </tr>\n",
       "    <tr>\n",
       "      <th>3</th>\n",
       "      <td>0.181919</td>\n",
       "      <td>0.028201</td>\n",
       "      <td>0.057692</td>\n",
       "      <td>0.089926</td>\n",
       "      <td>0</td>\n",
       "      <td>0</td>\n",
       "    </tr>\n",
       "    <tr>\n",
       "      <th>15</th>\n",
       "      <td>0.148400</td>\n",
       "      <td>0.017560</td>\n",
       "      <td>0.057692</td>\n",
       "      <td>0.089926</td>\n",
       "      <td>0</td>\n",
       "      <td>0</td>\n",
       "    </tr>\n",
       "    <tr>\n",
       "      <th>20</th>\n",
       "      <td>0.020175</td>\n",
       "      <td>0.000404</td>\n",
       "      <td>0.057692</td>\n",
       "      <td>0.089926</td>\n",
       "      <td>0</td>\n",
       "      <td>0</td>\n",
       "    </tr>\n",
       "  </tbody>\n",
       "</table>\n",
       "</div>"
      ],
      "text/plain": [
       "    hist_zscore   overlap   avg_bid  win_rate_strat  goal  target_variable\n",
       "1      0.020827  0.004296  0.057692        0.089926     0                0\n",
       "2      0.022320  0.005334  0.057692        0.089926     0                0\n",
       "3      0.181919  0.028201  0.057692        0.089926     0                0\n",
       "15     0.148400  0.017560  0.057692        0.089926     0                0\n",
       "20     0.020175  0.000404  0.057692        0.089926     0                0"
      ]
     },
     "execution_count": 85,
     "metadata": {},
     "output_type": "execute_result"
    }
   ],
   "source": [
    "print len(df), len(df_knn)\n",
    "test_idx = np.random.uniform(0, 1, len(df_knn)) <= 0.3\n",
    "train = df_knn[test_idx==True]\n",
    "test = df_knn[test_idx==False]\n",
    "train.head()"
   ]
  },
  {
   "cell_type": "code",
   "execution_count": 91,
   "metadata": {
    "collapsed": false
   },
   "outputs": [
    {
     "name": "stdout",
     "output_type": "stream",
     "text": [
      "Neighbors: 1, Accuracy: 0.979424, Recall: 0.186813, Number wrong: 15, Total positive: 729\n",
      "[[697  11]\n",
      " [  4  17]]\n",
      "Neighbors: 3, Accuracy: 0.986283, Recall: 0.131868, Number wrong: 10, Total positive: 729\n",
      "[[707   1]\n",
      " [  9  12]]\n",
      "Neighbors: 5, Accuracy: 0.986283, Recall: 0.120879, Number wrong: 10, Total positive: 729\n",
      "[[708   0]\n",
      " [ 10  11]]\n",
      "Neighbors: 7, Accuracy: 0.976680, Recall: 0.043956, Number wrong: 17, Total positive: 729\n",
      "[[708   0]\n",
      " [ 17   4]]\n",
      "Neighbors: 9, Accuracy: 0.971193, Recall: 0.000000, Number wrong: 21, Total positive: 729\n",
      "[[708   0]\n",
      " [ 21   0]]\n"
     ]
    }
   ],
   "source": [
    "results = []\n",
    "for n in range(1, 11, 2):\n",
    "    clf = KNeighborsClassifier(n_neighbors=n)\n",
    "    clf.fit(train.ix[:,:5], train.ix[:,5])\n",
    "    preds = clf.predict(test.ix[:,:5])\n",
    "    accuracy = np.where(preds==test.ix[:,5], 1, 0).sum() / float(len(test))\n",
    "    recall = np.where((preds==test.ix[:,5])&(test.ix[:,5]==1), 1, 0).sum()/float(np.where(test==1,1,0).sum())\n",
    "    num_wrong = np.where(preds!=test.ix[:,5], 1, 0).sum()\n",
    "    print \"Neighbors: %d, Accuracy: %3f, Recall: %3f, Number wrong: %d, Total positive: %d\" % (n, accuracy, recall, num_wrong, len(test))\n",
    "    print confusion_matrix(test.ix[:,5], preds)\n",
    "    results.append([n, accuracy, recall])\n",
    "\n",
    "results = pd.DataFrame(results, columns=[\"n\", \"accuracy\", \"recall\"])"
   ]
  },
  {
   "cell_type": "code",
   "execution_count": 92,
   "metadata": {
    "collapsed": false
   },
   "outputs": [
    {
     "data": {
      "image/png": "[encoded data removed]",
      "text/plain": [
       "<matplotlib.figure.Figure at 0x119bb1210>"
      ]
     },
     "metadata": {},
     "output_type": "display_data"
    }
   ],
   "source": [
    "plt.rc(\"lines\", lw=2, marker='o')\n",
    "\n",
    "pl.plot(results.n, results.accuracy)\n",
    "pl.plot(results.n, results.recall)\n",
    "pl.ylim([0,1])\n",
    "pl.title(\"Accuracy with Increasing K\")\n",
    "pl.show()"
   ]
  },
  {
   "cell_type": "code",
   "execution_count": 76,
   "metadata": {
    "collapsed": false
   },
   "outputs": [
    {
     "ename": "TypeError",
     "evalue": "unbound method fit_transform() must be called with MinMaxScaler instance as first argument (got nothing instead)",
     "output_type": "error",
     "traceback": [
      "\u001b[0;31m---------------------------------------------------------------------------\u001b[0m",
      "\u001b[0;31mTypeError\u001b[0m                                 Traceback (most recent call last)",
      "\u001b[0;32m<ipython-input-76-1b6f4c7f5f43>\u001b[0m in \u001b[0;36m<module>\u001b[0;34m()\u001b[0m\n\u001b[0;32m----> 1\u001b[0;31m \u001b[0mMinMaxScaler\u001b[0m\u001b[0;34m.\u001b[0m\u001b[0mfit_transform\u001b[0m\u001b[0;34m(\u001b[0m\u001b[0;34m)\u001b[0m\u001b[0;34m\u001b[0m\u001b[0m\n\u001b[0m",
      "\u001b[0;31mTypeError\u001b[0m: unbound method fit_transform() must be called with MinMaxScaler instance as first argument (got nothing instead)"
     ]
    }
   ],
   "source": [
    "MinMaxScaler.fit_transform()"
   ]
  },
  {
   "cell_type": "code",
   "execution_count": null,
   "metadata": {
    "collapsed": true
   },
   "outputs": [],
   "source": []
  }
 ],
 "metadata": {
  "kernelspec": {
   "display_name": "Python 2",
   "language": "python",
   "name": "python2"
  },
  "language_info": {
   "codemirror_mode": {
    "name": "ipython",
    "version": 2
   },
   "file_extension": ".py",
   "mimetype": "text/x-python",
   "name": "python",
   "nbconvert_exporter": "python",
   "pygments_lexer": "ipython2",
   "version": "2.7.11"
  }
 },
 "nbformat": 4,
 "nbformat_minor": 0
}
