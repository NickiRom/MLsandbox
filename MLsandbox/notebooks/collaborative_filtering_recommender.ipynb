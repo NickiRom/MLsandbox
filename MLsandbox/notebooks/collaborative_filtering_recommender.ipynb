{
 "cells": [
  {
   "cell_type": "markdown",
   "metadata": {},
   "source": [
    "## Collaborative Filter to recommend users based on a seed population"
   ]
  },
  {
   "cell_type": "markdown",
   "metadata": {},
   "source": [
    "#### As a first pass, I selected 500 users seen on 1/3/2015.  I used impressions served to these users over the course of a week to determine which domains they tend to visit.  This information is used to form the collaborative filter."
   ]
  },
  {
   "cell_type": "markdown",
   "metadata": {},
   "source": [
    "#### The Hive query:"
   ]
  },
  {
   "cell_type": "raw",
   "metadata": {},
   "source": [
    "hive -e 'SELECT t1.uuid, t2.site_id, t2.referingurl, count(1)\n",
    "FROM (SELECT DISTINCT uuid\n",
    "      FROM radiumone_views.v_union_impression\n",
    "      WHERE dt = 20150103\n",
    "      AND uuid IS NOT NULL\n",
    "      LIMIT 500) t1\n",
    "JOIN radiumone_views.v_union_impression t2\n",
    "ON t1.uuid = t2.uuid\n",
    "WHERE dt BETWEEN 20141229 AND 20150104\n",
    "GROUP BY t1.uuid, t2.site_id, t2.referingurl;' > recommendation_site_visits_20150105.csv"
   ]
  },
  {
   "cell_type": "markdown",
   "metadata": {},
   "source": [
    "#### In the real recommendation engine, we will pull all uuids from a seed population and run a  similar Hive query to identify all domains visited by those users over a particular time frame.          It might look like this:"
   ]
  },
  {
   "cell_type": "raw",
   "metadata": {},
   "source": [
    "hive -e \n",
    "'SELECT t1.uuid, t2.site_id, count(1)\n",
    "FROM (SELECT DISTINCT uuid\n",
    "      FROM pai_report.user_slice_update_exploded\n",
    "      WHERE slice_id = {0}) t1\n",
    "JOIN radiumone_views.v_bid_requests t2\n",
    "ON t1.uuid = t2.uuid\n",
    "WHERE dt BETWEEN {1} and {2}\n",
    "GROUP BY t1.uuid, t2.site_id;' \n",
    "> recommendation_site_visits_20150105.csv\n",
    "\n",
    "where {0} is the slice ID\n",
    "      {1} is the lookback start date\n",
    "      {2} is the lookback end date"
   ]
  },
  {
   "cell_type": "markdown",
   "metadata": {},
   "source": [
    "#### (Note: this only looks at site_id and not the referring url)"
   ]
  },
  {
   "cell_type": "markdown",
   "metadata": {},
   "source": [
    "#### Then, we would need to pull similar information for a wide variety of users.  It may be useful to create a UDF to do Jaccard similarity in Hive.  For the purposes of this example, I'll just look at similarity amongst users in a single dataset."
   ]
  },
  {
   "cell_type": "markdown",
   "metadata": {},
   "source": [
    "#### Now load the table as a dataframe:"
   ]
  },
  {
   "cell_type": "code",
   "execution_count": 3,
   "metadata": {
    "collapsed": false
   },
   "outputs": [
    {
     "name": "stdout",
     "output_type": "stream",
     "text": [
      "Populating the interactive namespace from numpy and matplotlib\n"
     ]
    }
   ],
   "source": [
    "import pandas as pd\n",
    "%pylab inline\n",
    "\n",
    "#df = pd.read_csv('/path/to/data', sep = '\\t', header = None)\n",
    "#df.columns = ['uuid', 'site_id', 'referingurl', 'count']\n",
    "#df.head()"
   ]
  },
  {
   "cell_type": "markdown",
   "metadata": {},
   "source": [
    "#### In order to score each site, first look at the distribution of number of distinct sites per user"
   ]
  },
  {
   "cell_type": "code",
   "execution_count": 19,
   "metadata": {
    "collapsed": false
   },
   "outputs": [
    {
     "data": {
      "text/plain": [
       "<matplotlib.axes.AxesSubplot at 0x109fce1d0>"
      ]
     },
     "execution_count": 19,
     "metadata": {},
     "output_type": "execute_result"
    },
    {
     "data": {
      "image/png": "[encoded data removed]",
      "text/plain": [
       "<matplotlib.figure.Figure at 0x109cf95d0>"
      ]
     },
     "metadata": {},
     "output_type": "display_data"
    }
   ],
   "source": [
    "df.groupby(by='uuid')['site_id'].count().hist(bins = 100)"
   ]
  },
  {
   "cell_type": "markdown",
   "metadata": {},
   "source": [
    "#### There are quite a few users who have been shown ads on 10 or more sites.   As a first pass, we'll count each site equally regardless of the number visited per user.  First I'll walk through the code, then we'll run it on this impression data:"
   ]
  },
  {
   "cell_type": "markdown",
   "metadata": {},
   "source": [
    "#### Visit_dict makes a dict of sites visited and number of times visited for each uuid.  "
   ]
  },
  {
   "cell_type": "code",
   "execution_count": 20,
   "metadata": {
    "collapsed": false
   },
   "outputs": [],
   "source": [
    "def visit_dict(df):\n",
    "    site_dict = {}\n",
    "    \n",
    "    for user in df['uuid'].unique():\n",
    "        site_dict[user] = df[df['uuid']==user].groupby(by='site_id')['count'].sum().to_dict()\n",
    "    return site_dict"
   ]
  },
  {
   "cell_type": "markdown",
   "metadata": {},
   "source": [
    "#### Implementation of Jaccard score (does not account for how many visits were made to each site) :"
   ]
  },
  {
   "cell_type": "code",
   "execution_count": 7,
   "metadata": {
    "collapsed": false
   },
   "outputs": [],
   "source": [
    "def Jaccard(site_dict, uuid1, uuid2):\n",
    "    \n",
    "    common_items = 0\n",
    "    \n",
    "    for item in site_dict[uuid1]:\n",
    "        if item in site_dict[uuid2]:\n",
    "            common_items += 1\n",
    "    \n",
    "    union = len(site_dict[uuid1]) + len(site_dict[uuid2]) - common_items\n",
    "\n",
    "    return (common_items/float(union)) if union else 0"
   ]
  },
  {
   "cell_type": "markdown",
   "metadata": {},
   "source": [
    "#### Jaccard_weighted is an implementation of Jaccard score in which each visit to a site is counted as an individual item"
   ]
  },
  {
   "cell_type": "code",
   "execution_count": 22,
   "metadata": {
    "collapsed": false
   },
   "outputs": [],
   "source": [
    "def Jaccard_weighted(site_dict, uuid1, uuid2):\n",
    "    \n",
    "    common_items = 0\n",
    "    \n",
    "    for item in site_dict[uuid1]:\n",
    "        if item in site_dict[uuid2]:\n",
    "            common_items += site_dict[uuid1][item] + site_dict[uuid2][item]\n",
    "    \n",
    "    union = sum(site_dict[uuid1].values()) + sum(site_dict[uuid2].values()) - common_items\n",
    "\n",
    "    return (common_items/float(union)) if union else 0"
   ]
  },
  {
   "cell_type": "markdown",
   "metadata": {},
   "source": [
    "#### Score_matrix uses the desired metric to construct a co-occurrence matrix.  This matrix is currently symmetric and not triangularized."
   ]
  },
  {
   "cell_type": "code",
   "execution_count": 37,
   "metadata": {
    "collapsed": false
   },
   "outputs": [],
   "source": [
    "def score_matrix(site_dict, type = 'Jaccard'):\n",
    "    \n",
    "    score_list = []\n",
    "    headers = ['uuid1', 'uuid2', 'score']\n",
    "    \n",
    "    for user1 in site_dict:\n",
    "        for user2 in site_dict:\n",
    "            if user1 != user2:\n",
    "                score_list.append([user1, user2, Jaccard(site_dict, user1, user2)])\n",
    "    \n",
    "    matrix = pd.DataFrame(score_list, columns = headers)\n",
    "    print len(matrix[matrix['score']==0])\n",
    "    \n",
    "    # remove all uuid-to-uuid comparisons with nothing in common\n",
    "    return matrix[matrix['score']>0]"
   ]
  },
  {
   "cell_type": "markdown",
   "metadata": {},
   "source": [
    "#### Main function, which takes a dataframe and identifies users with sites in common"
   ]
  },
  {
   "cell_type": "code",
   "execution_count": 38,
   "metadata": {
    "collapsed": false
   },
   "outputs": [],
   "source": [
    "def main(df):\n",
    "    site_dict = visit_dict(df)\n",
    "    matrix = score_matrix(site_dict).sort(columns = 'score', ascending = False)\n",
    "    return matrix"
   ]
  },
  {
   "cell_type": "markdown",
   "metadata": {},
   "source": [
    "#### Now it's time to score the impresson data we loaded above:"
   ]
  },
  {
   "cell_type": "code",
   "execution_count": 34,
   "metadata": {
    "collapsed": false
   },
   "outputs": [],
   "source": [
    "matrix = main(df)"
   ]
  },
  {
   "cell_type": "markdown",
   "metadata": {},
   "source": [
    "#### Take a look at the histogram of non-zero scores "
   ]
  },
  {
   "cell_type": "code",
   "execution_count": 35,
   "metadata": {
    "collapsed": false
   },
   "outputs": [
    {
     "data": {
      "text/plain": [
       "<matplotlib.axes.AxesSubplot at 0x109e31890>"
      ]
     },
     "execution_count": 35,
     "metadata": {},
     "output_type": "execute_result"
    },
    {
     "data": {
      "image/png": "[encoded data removed]",
      "text/plain": [
       "<matplotlib.figure.Figure at 0x103cf6e10>"
      ]
     },
     "metadata": {},
     "output_type": "display_data"
    }
   ],
   "source": [
    "matrix['score'].hist(bins = 10, normed = False)"
   ]
  },
  {
   "cell_type": "markdown",
   "metadata": {},
   "source": [
    "#### Recall that this matrix is not triangularized, so pairs are double-counted in the histogram.  "
   ]
  },
  {
   "cell_type": "markdown",
   "metadata": {},
   "source": [
    "### Approximately 3.3% of the possible uuid pairs had site visits in common. (4024 pairs out of 124,000 possible pairs)"
   ]
  },
  {
   "cell_type": "code",
   "execution_count": 53,
   "metadata": {
    "collapsed": false
   },
   "outputs": [],
   "source": [
    "#implementation of Pearson correlation score\n",
    "# Not yet checked for bugs\n",
    "from math import sqrt\n",
    "\n",
    "def Pearson(site_dict, uuid1, uuid2):\n",
    "    common_list = {}\n",
    "    \n",
    "    for item in site_dict[uuid1]:\n",
    "        if item in site_dict[uuid2]:\n",
    "            common_list[item]=1\n",
    "            \n",
    "    n = len(common_list)\n",
    "    \n",
    "    if n == 0:\n",
    "        print \"error 1\"\n",
    "        return 0\n",
    "    \n",
    "    sum1 = sum([site_dict[uuid1][item] for item in common_list])\n",
    "    sum2 = sum([site_dict[uuid2][item] for item in common_list])\n",
    "    print \"sum1 is \", sum1, \" and sum2 is \", sum2\n",
    "    print \"n is \", n\n",
    "    \n",
    "    sum1Sq = sum([pow(site_dict[uuid1][item],2) for item in common_list])\n",
    "    sum2Sq = sum([pow(site_dict[uuid2][item],2) for item in common_list])\n",
    "    print \"sum1Sq is \", sum1Sq, \" and sum2Sq is \", sum2Sq\n",
    "\n",
    "    pSum = sum([site_dict[uuid1][item]*site_dict[uuid2][item] for item in common_list])\n",
    "    \n",
    "    num = pSum - (sum1*sum2/n)\n",
    "    den = sqrt((sum1Sq - pow(sum1,2)/n)*(sum2Sq - pow(sum2,2)/n))\n",
    "    if den==0: \n",
    "        print \"error 2\"\n",
    "        return 0\n",
    "    \n",
    "    r = num/den\n",
    "    \n",
    "    return r"
   ]
  },
  {
   "cell_type": "markdown",
   "metadata": {},
   "source": [
    "# Types of collaborative filtering\n",
    "\n",
    "- Use Matrix Factorization when # users becomes large (> 3000)\n",
    "\n"
   ]
  }
 ],
 "metadata": {
  "kernelspec": {
   "display_name": "Python 2",
   "language": "python",
   "name": "python2"
  },
  "language_info": {
   "codemirror_mode": {
    "name": "ipython",
    "version": 2
   },
   "file_extension": ".py",
   "mimetype": "text/x-python",
   "name": "python",
   "nbconvert_exporter": "python",
   "pygments_lexer": "ipython2",
   "version": "2.7.10"
  }
 },
 "nbformat": 4,
 "nbformat_minor": 0
}
