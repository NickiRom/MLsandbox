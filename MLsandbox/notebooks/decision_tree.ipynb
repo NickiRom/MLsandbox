{
 "cells": [
  {
   "cell_type": "markdown",
   "metadata": {},
   "source": [
    "# Decision trees\n",
    "\n",
    "Are non-parametric algorithms that carve the feature space according to one feature at a time, e.g.: \n",
    "\n",
    "$$ \\begin{cases} \n",
    "      \\text{left branch} & price \\leq 2 \\\\\n",
    "      \\text{right branch} & price \\gt 2 \\\\\n",
    "   \\end{cases}\n",
    "$$\n",
    "\n",
    "Each decision is a split that separates the data into two groups (known as nodes).  The goal is to have leaves (end nodes) that are purely one class or another.  The purity of nodes after each split can be calculated using [gini impurity, information gain, or variance reduction](https://en.wikipedia.org/wiki/Decision_tree_learning#Metrics).\n",
    "\n",
    "### Pros\n",
    "- easy to interpret, as they form a set of \"rules\"\n",
    "- handle feature interactions and nonlinearity effortlessly\n",
    "\n",
    "### Cons\n",
    "- can be highly unstable with new data, meaning the tree structure can change drastically.  The solution here is to use an ensemble method like Random Forest\n",
    "- decision boundaries used to carve the feature space are dependent on only one feature at a time.  This means that a perfect linear interaction between features can only be approximated with a series of zig-zagging decision boundaries.\n",
    "- data are fragmented in the leaf nodes, so it may be difficult to learn common themes amongst all leaves of the same class."
   ]
  },
  {
   "cell_type": "code",
   "execution_count": 13,
   "metadata": {
    "collapsed": false
   },
   "outputs": [
    {
     "name": "stderr",
     "output_type": "stream",
     "text": [
      "/Users/nromano/RadiumOne/Python/MLsandbox/venv/lib/python2.7/site-packages/matplotlib/font_manager.py:273: UserWarning: Matplotlib is building the font cache using fc-list. This may take a moment.\n",
      "  warnings.warn('Matplotlib is building the font cache using fc-list. This may take a moment.')\n"
     ]
    },
    {
     "name": "stdout",
     "output_type": "stream",
     "text": [
      "Populating the interactive namespace from numpy and matplotlib\n"
     ]
    },
    {
     "name": "stderr",
     "output_type": "stream",
     "text": [
      "/Users/nromano/RadiumOne/Python/MLsandbox/venv/lib/python2.7/site-packages/IPython/core/magics/pylab.py:161: UserWarning: pylab import has clobbered these variables: ['clf']\n",
      "`%matplotlib` prevents importing * from pylab and numpy\n",
      "  \"\\n`%matplotlib` prevents importing * from pylab and numpy\"\n"
     ]
    }
   ],
   "source": [
    "import pandas as pd\n",
    "from sklearn import tree\n",
    "import numpy as np\n",
    "from sklearn.feature_extraction import DictVectorizer\n",
    "import sys\n",
    "%pylab inline"
   ]
  },
  {
   "cell_type": "markdown",
   "metadata": {},
   "source": [
    "# Create train, test"
   ]
  },
  {
   "cell_type": "code",
   "execution_count": 14,
   "metadata": {
    "collapsed": false
   },
   "outputs": [
    {
     "data": {
      "text/html": [
       "<div>\n",
       "<table border=\"1\" class=\"dataframe\">\n",
       "  <thead>\n",
       "    <tr style=\"text-align: right;\">\n",
       "      <th></th>\n",
       "      <th>adv_vertical</th>\n",
       "      <th>goal</th>\n",
       "      <th>price</th>\n",
       "      <th>avg_bid</th>\n",
       "      <th>max_bid</th>\n",
       "      <th>win_rate_site_table</th>\n",
       "      <th>win_rate_strat_table</th>\n",
       "      <th>hist_zscore</th>\n",
       "      <th>overlap</th>\n",
       "      <th>target</th>\n",
       "    </tr>\n",
       "  </thead>\n",
       "  <tbody>\n",
       "    <tr>\n",
       "      <th>0</th>\n",
       "      <td>Travel</td>\n",
       "      <td>0.0</td>\n",
       "      <td>3.95</td>\n",
       "      <td>2.75</td>\n",
       "      <td>300.0</td>\n",
       "      <td>0.450094</td>\n",
       "      <td>0.249479</td>\n",
       "      <td>2.708366</td>\n",
       "      <td>0.001066</td>\n",
       "      <td>0</td>\n",
       "    </tr>\n",
       "    <tr>\n",
       "      <th>1</th>\n",
       "      <td>Travel</td>\n",
       "      <td>0.0</td>\n",
       "      <td>3.95</td>\n",
       "      <td>2.75</td>\n",
       "      <td>300.0</td>\n",
       "      <td>0.158050</td>\n",
       "      <td>0.249479</td>\n",
       "      <td>1.188635</td>\n",
       "      <td>0.000703</td>\n",
       "      <td>0</td>\n",
       "    </tr>\n",
       "    <tr>\n",
       "      <th>2</th>\n",
       "      <td>Travel</td>\n",
       "      <td>0.0</td>\n",
       "      <td>3.95</td>\n",
       "      <td>2.75</td>\n",
       "      <td>300.0</td>\n",
       "      <td>0.360591</td>\n",
       "      <td>0.249479</td>\n",
       "      <td>1.503285</td>\n",
       "      <td>0.000873</td>\n",
       "      <td>0</td>\n",
       "    </tr>\n",
       "    <tr>\n",
       "      <th>3</th>\n",
       "      <td>Travel</td>\n",
       "      <td>0.0</td>\n",
       "      <td>3.95</td>\n",
       "      <td>2.75</td>\n",
       "      <td>300.0</td>\n",
       "      <td>0.113717</td>\n",
       "      <td>0.249479</td>\n",
       "      <td>35.153628</td>\n",
       "      <td>0.004614</td>\n",
       "      <td>0</td>\n",
       "    </tr>\n",
       "    <tr>\n",
       "      <th>4</th>\n",
       "      <td>Travel</td>\n",
       "      <td>0.0</td>\n",
       "      <td>3.95</td>\n",
       "      <td>2.75</td>\n",
       "      <td>300.0</td>\n",
       "      <td>0.019308</td>\n",
       "      <td>0.249479</td>\n",
       "      <td>-0.091378</td>\n",
       "      <td>0.000344</td>\n",
       "      <td>0</td>\n",
       "    </tr>\n",
       "  </tbody>\n",
       "</table>\n",
       "</div>"
      ],
      "text/plain": [
       "  adv_vertical  goal  price  avg_bid  max_bid  win_rate_site_table  \\\n",
       "0       Travel   0.0   3.95     2.75    300.0             0.450094   \n",
       "1       Travel   0.0   3.95     2.75    300.0             0.158050   \n",
       "2       Travel   0.0   3.95     2.75    300.0             0.360591   \n",
       "3       Travel   0.0   3.95     2.75    300.0             0.113717   \n",
       "4       Travel   0.0   3.95     2.75    300.0             0.019308   \n",
       "\n",
       "   win_rate_strat_table  hist_zscore   overlap  target  \n",
       "0              0.249479     2.708366  0.001066       0  \n",
       "1              0.249479     1.188635  0.000703       0  \n",
       "2              0.249479     1.503285  0.000873       0  \n",
       "3              0.249479    35.153628  0.004614       0  \n",
       "4              0.249479    -0.091378  0.000344       0  "
      ]
     },
     "execution_count": 14,
     "metadata": {},
     "output_type": "execute_result"
    }
   ],
   "source": [
    "df = pd.read_csv('../data/sample_data_cleaned.csv', sep=',', header=0, index_col=0)\n",
    "feature_cols = ['adv_vertical', 'goal', 'price', 'avg_bid', 'max_bid', 'win_rate_site_table', 'win_rate_strat_table', 'hist_zscore', 'overlap']\n",
    "target = 'target'\n",
    "\n",
    "df[['adv_vertical', 'goal', 'price', 'avg_bid', 'max_bid', 'win_rate_site_table', 'win_rate_strat_table', 'hist_zscore', 'overlap', 'target']].head()"
   ]
  },
  {
   "cell_type": "code",
   "execution_count": 15,
   "metadata": {
    "collapsed": false
   },
   "outputs": [],
   "source": [
    "#define training and testing set\n",
    "df['is_train'] = np.random.uniform(0,1, len(df)) > 0.25\n",
    "x_train, y_train = df[df['is_train']==True][feature_cols], df[df['is_train']==True][target]\n",
    "x_test, y_test = df[df['is_train']==False][feature_cols], df[df['is_train']==False][target]"
   ]
  },
  {
   "cell_type": "code",
   "execution_count": 16,
   "metadata": {
    "collapsed": true
   },
   "outputs": [],
   "source": [
    "#vectorize the feature set and hot encode adv_vertical\n",
    "vec = DictVectorizer(sparse=False)\n",
    "feats_train = x_train.T.to_dict().values()\n",
    "features_train = vec.fit_transform(feats_train)\n",
    "feats_test = x_test.T.to_dict().values()\n",
    "features_test = vec.fit_transform(feats_test)\n",
    "\n",
    "#convert back to dataframe and check for null values\n",
    "x_train = pd.DataFrame(features_train, columns = vec.get_feature_names())\n",
    "x_test = pd.DataFrame(features_test, columns = vec.get_feature_names())"
   ]
  },
  {
   "cell_type": "markdown",
   "metadata": {},
   "source": [
    "# Make decision tree"
   ]
  },
  {
   "cell_type": "code",
   "execution_count": 80,
   "metadata": {
    "collapsed": false
   },
   "outputs": [
    {
     "name": "stdout",
     "output_type": "stream",
     "text": [
      "test accuracy: 0.982 \n",
      "\n",
      "train accuracy: 0.983 \n",
      "\n",
      "adv_vertical=Automotive: 0.0\n",
      " adv_vertical=Finance: 0.0\n",
      " adv_vertical=Home & Garden: 0.0\n",
      " adv_vertical=Philanthropy: 0.0\n",
      " adv_vertical=Travel: 0.0\n",
      " adv_vertical=Utilities: 0.0\n",
      " avg_bid: 0.146273052758\n",
      " goal: 0.0\n",
      " hist_zscore: 0.407761617705\n",
      " max_bid: 0.0372713578849\n",
      " overlap: 0.181801638852\n",
      " price: 0.210943173707\n",
      " win_rate_site_table: 0.0\n",
      " win_rate_strat_table: 0.0159491590918\n",
      "\n"
     ]
    }
   ],
   "source": [
    "clf = tree.DecisionTreeClassifier(max_depth=6, min_samples_leaf = 15).fit(x_train, y_train)\n",
    "\n",
    "# now find the accuracy in the testing and training set\n",
    "print \"test accuracy: %0.3f \\n\" % clf.score(x_test, y_test)\n",
    "print \"train accuracy: %0.3f \\n\" % clf.score(x_train, y_train)\n",
    "\n",
    "# and print feature importances\n",
    "print ' '.join([x[0] + ': ' + str(x[1]) + '\\n' for x in zip(x_train.columns, clf.feature_importances_)])"
   ]
  },
  {
   "cell_type": "markdown",
   "metadata": {},
   "source": [
    "## Plot feature importances\n",
    "\n",
    "First, zip the feature names together with their importance values and sort from highest to lowest importance"
   ]
  },
  {
   "cell_type": "code",
   "execution_count": 82,
   "metadata": {
    "collapsed": false
   },
   "outputs": [
    {
     "data": {
      "text/plain": [
       "[('hist_zscore', 0.40776161770545938),\n",
       " ('price', 0.2109431737071904),\n",
       " ('overlap', 0.18180163885228218),\n",
       " ('avg_bid', 0.1462730527583353),\n",
       " ('max_bid', 0.037271357884926151),\n",
       " ('win_rate_strat_table', 0.015949159091806716),\n",
       " ('adv_vertical=Automotive', 0.0),\n",
       " ('adv_vertical=Finance', 0.0),\n",
       " ('adv_vertical=Home & Garden', 0.0),\n",
       " ('adv_vertical=Philanthropy', 0.0),\n",
       " ('adv_vertical=Travel', 0.0),\n",
       " ('adv_vertical=Utilities', 0.0),\n",
       " ('goal', 0.0),\n",
       " ('win_rate_site_table', 0.0)]"
      ]
     },
     "execution_count": 82,
     "metadata": {},
     "output_type": "execute_result"
    }
   ],
   "source": [
    "feat_imp_pairs = zip(x_train.columns, clf.feature_importances_)\n",
    "importances = sorted(feat_imp_pairs, key=lambda x: x[1], reverse=True)\n",
    "importances"
   ]
  },
  {
   "cell_type": "markdown",
   "metadata": {},
   "source": [
    "#### Next, plot the importances from highest to lowest"
   ]
  },
  {
   "cell_type": "code",
   "execution_count": 83,
   "metadata": {
    "collapsed": false
   },
   "outputs": [
    {
     "data": {
      "image/png": "[encoded data removed]",
      "text/plain": [
       "<matplotlib.figure.Figure at 0x10e0ef750>"
      ]
     },
     "metadata": {},
     "output_type": "display_data"
    }
   ],
   "source": [
    "fig = figure(1, figsize=(9,6))\n",
    "ax = fig.add_subplot(111)\n",
    "bp = ax.bar(range(x_train.shape[1]), [x[1] for x in importances], align='center')\n",
    "_ = plt.xticks(range(x_train.shape[1]), [x[0] for x in importances],rotation=90)\n",
    "_ = plt.xlim([-1, x_train.shape[1]])\n",
    "plt.ylabel('Feature Importance')\n",
    "_ = plt.title('Decision Tree Classifier: Feature Importances')\n",
    "plt.savefig('../figures/decision_tree_feature_importance.png')"
   ]
  },
  {
   "cell_type": "markdown",
   "metadata": {},
   "source": [
    "## Draw tree\n",
    "\n",
    "- There are documented difficulties installing pydot\n",
    "- When installing this package:\n",
    "   \n",
    "   $ pip install .\n",
    "   \n",
    "   make note of where pydotplus is installed.  Add that path to your system path, as in the first line below:"
   ]
  },
  {
   "cell_type": "code",
   "execution_count": 84,
   "metadata": {
    "collapsed": true
   },
   "outputs": [],
   "source": [
    "import sys\n",
    "sys.path.append('/anaconda/lib/python2.7/site-packages')\n",
    "import pydotplus"
   ]
  },
  {
   "cell_type": "markdown",
   "metadata": {},
   "source": [
    "#### Now proceed to draw the tree:"
   ]
  },
  {
   "cell_type": "code",
   "execution_count": 85,
   "metadata": {
    "collapsed": false
   },
   "outputs": [
    {
     "data": {
      "text/plain": [
       "True"
      ]
     },
     "execution_count": 85,
     "metadata": {},
     "output_type": "execute_result"
    }
   ],
   "source": [
    "from sklearn.externals.six import StringIO\n",
    "\n",
    "dot_data = StringIO()\n",
    "tree.export_graphviz(clf, out_file = dot_data, feature_names = x_train.columns)\n",
    "graph = pydotplus.graph_from_dot_data(dot_data.getvalue())\n",
    "graph.write_pdf('../figures/draw_a_tree.pdf')"
   ]
  },
  {
   "cell_type": "markdown",
   "metadata": {},
   "source": [
    "#### You should be able to find both visualizations in MLsandbox/MLsandbox/figures/.\n"
   ]
  }
 ],
 "metadata": {
  "kernelspec": {
   "display_name": "Python 2",
   "language": "python",
   "name": "python2"
  },
  "language_info": {
   "codemirror_mode": {
    "name": "ipython",
    "version": 2
   },
   "file_extension": ".py",
   "mimetype": "text/x-python",
   "name": "python",
   "nbconvert_exporter": "python",
   "pygments_lexer": "ipython2",
   "version": "2.7.10"
  }
 },
 "nbformat": 4,
 "nbformat_minor": 0
}
