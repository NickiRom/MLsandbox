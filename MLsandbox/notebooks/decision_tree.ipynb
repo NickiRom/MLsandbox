{
 "cells": [
  {
   "cell_type": "code",
   "execution_count": 1,
   "metadata": {
    "collapsed": false
   },
   "outputs": [],
   "source": [
    "import pandas as pd\n",
    "from sklearn import tree\n",
    "import numpy as np\n",
    "from sklearn.feature_extraction import DictVectorizer\n",
    "import sys"
   ]
  },
  {
   "cell_type": "markdown",
   "metadata": {},
   "source": [
    "# Create train, test"
   ]
  },
  {
   "cell_type": "code",
   "execution_count": 2,
   "metadata": {
    "collapsed": false
   },
   "outputs": [
    {
     "data": {
      "text/html": [
       "<div>\n",
       "<table border=\"1\" class=\"dataframe\">\n",
       "  <thead>\n",
       "    <tr style=\"text-align: right;\">\n",
       "      <th></th>\n",
       "      <th>adv_vertical</th>\n",
       "      <th>goal</th>\n",
       "      <th>price</th>\n",
       "      <th>avg_bid</th>\n",
       "      <th>max_bid</th>\n",
       "      <th>win_rate_site_table</th>\n",
       "      <th>win_rate_strat_table</th>\n",
       "      <th>hist_zscore</th>\n",
       "      <th>overlap</th>\n",
       "      <th>target</th>\n",
       "    </tr>\n",
       "  </thead>\n",
       "  <tbody>\n",
       "    <tr>\n",
       "      <th>0</th>\n",
       "      <td>Travel</td>\n",
       "      <td>0.0</td>\n",
       "      <td>3.95</td>\n",
       "      <td>2.75</td>\n",
       "      <td>300.0</td>\n",
       "      <td>0.450094</td>\n",
       "      <td>0.249479</td>\n",
       "      <td>2.708366</td>\n",
       "      <td>0.001066</td>\n",
       "      <td>0</td>\n",
       "    </tr>\n",
       "    <tr>\n",
       "      <th>1</th>\n",
       "      <td>Travel</td>\n",
       "      <td>0.0</td>\n",
       "      <td>3.95</td>\n",
       "      <td>2.75</td>\n",
       "      <td>300.0</td>\n",
       "      <td>0.158050</td>\n",
       "      <td>0.249479</td>\n",
       "      <td>1.188635</td>\n",
       "      <td>0.000703</td>\n",
       "      <td>0</td>\n",
       "    </tr>\n",
       "    <tr>\n",
       "      <th>2</th>\n",
       "      <td>Travel</td>\n",
       "      <td>0.0</td>\n",
       "      <td>3.95</td>\n",
       "      <td>2.75</td>\n",
       "      <td>300.0</td>\n",
       "      <td>0.360591</td>\n",
       "      <td>0.249479</td>\n",
       "      <td>1.503285</td>\n",
       "      <td>0.000873</td>\n",
       "      <td>0</td>\n",
       "    </tr>\n",
       "    <tr>\n",
       "      <th>3</th>\n",
       "      <td>Travel</td>\n",
       "      <td>0.0</td>\n",
       "      <td>3.95</td>\n",
       "      <td>2.75</td>\n",
       "      <td>300.0</td>\n",
       "      <td>0.113717</td>\n",
       "      <td>0.249479</td>\n",
       "      <td>35.153628</td>\n",
       "      <td>0.004614</td>\n",
       "      <td>0</td>\n",
       "    </tr>\n",
       "    <tr>\n",
       "      <th>4</th>\n",
       "      <td>Travel</td>\n",
       "      <td>0.0</td>\n",
       "      <td>3.95</td>\n",
       "      <td>2.75</td>\n",
       "      <td>300.0</td>\n",
       "      <td>0.019308</td>\n",
       "      <td>0.249479</td>\n",
       "      <td>-0.091378</td>\n",
       "      <td>0.000344</td>\n",
       "      <td>0</td>\n",
       "    </tr>\n",
       "  </tbody>\n",
       "</table>\n",
       "</div>"
      ],
      "text/plain": [
       "  adv_vertical  goal  price  avg_bid  max_bid  win_rate_site_table  \\\n",
       "0       Travel   0.0   3.95     2.75    300.0             0.450094   \n",
       "1       Travel   0.0   3.95     2.75    300.0             0.158050   \n",
       "2       Travel   0.0   3.95     2.75    300.0             0.360591   \n",
       "3       Travel   0.0   3.95     2.75    300.0             0.113717   \n",
       "4       Travel   0.0   3.95     2.75    300.0             0.019308   \n",
       "\n",
       "   win_rate_strat_table  hist_zscore   overlap  target  \n",
       "0              0.249479     2.708366  0.001066       0  \n",
       "1              0.249479     1.188635  0.000703       0  \n",
       "2              0.249479     1.503285  0.000873       0  \n",
       "3              0.249479    35.153628  0.004614       0  \n",
       "4              0.249479    -0.091378  0.000344       0  "
      ]
     },
     "execution_count": 2,
     "metadata": {},
     "output_type": "execute_result"
    }
   ],
   "source": [
    "df = pd.read_csv('../data/sample_data_cleaned.csv', sep=',', header=0, index_col=0)\n",
    "feature_cols = ['adv_vertical', 'goal', 'price', 'avg_bid', 'max_bid', 'win_rate_site_table', 'win_rate_strat_table', 'hist_zscore', 'overlap']\n",
    "target = 'target'\n",
    "\n",
    "df[['adv_vertical', 'goal', 'price', 'avg_bid', 'max_bid', 'win_rate_site_table', 'win_rate_strat_table', 'hist_zscore', 'overlap', 'target']].head()"
   ]
  },
  {
   "cell_type": "code",
   "execution_count": 3,
   "metadata": {
    "collapsed": false
   },
   "outputs": [],
   "source": [
    "#define training and testing set\n",
    "df['is_train'] = np.random.uniform(0,1, len(df)) > 0.25\n",
    "x_train, y_train = df[df['is_train']==True][feature_cols], df[df['is_train']==True][target]\n",
    "x_test, y_test = df[df['is_train']==False][feature_cols], df[df['is_train']==False][target]"
   ]
  },
  {
   "cell_type": "code",
   "execution_count": 4,
   "metadata": {
    "collapsed": true
   },
   "outputs": [],
   "source": [
    "#vectorize the feature set and hot encode adv_vertical\n",
    "vec = DictVectorizer(sparse=False)\n",
    "feats_train = x_train.T.to_dict().values()\n",
    "features_train = vec.fit_transform(feats_train)\n",
    "feats_test = x_test.T.to_dict().values()\n",
    "features_test = vec.fit_transform(feats_test)\n",
    "\n",
    "#convert back to dataframe and check for null values\n",
    "x_train = pd.DataFrame(features_train, columns = vec.get_feature_names())\n",
    "x_test = pd.DataFrame(features_test, columns = vec.get_feature_names())"
   ]
  },
  {
   "cell_type": "markdown",
   "metadata": {},
   "source": [
    "# Make decision tree"
   ]
  },
  {
   "cell_type": "code",
   "execution_count": 5,
   "metadata": {
    "collapsed": false
   },
   "outputs": [
    {
     "name": "stdout",
     "output_type": "stream",
     "text": [
      "test accuracy: 0.976 \n",
      "\n",
      "train accuracy: 0.982 \n",
      "\n",
      "adv_vertical=Automotive: 0.0\n",
      " adv_vertical=Finance: 0.0\n",
      " adv_vertical=Home & Garden: 0.0\n",
      " adv_vertical=Philanthropy: 0.0\n",
      " adv_vertical=Travel: 0.0\n",
      " adv_vertical=Utilities: 0.0\n",
      " avg_bid: 0.44712359503\n",
      " goal: 0.0\n",
      " hist_zscore: 0.254006475622\n",
      " max_bid: 0.293528662673\n",
      " overlap: 0.00295811499769\n",
      " price: 0.0\n",
      " win_rate_site_table: 0.0\n",
      " win_rate_strat_table: 0.00238315167777\n",
      "\n"
     ]
    }
   ],
   "source": [
    "clf = tree.DecisionTreeClassifier(max_depth=6, min_samples_leaf = 15).fit(x_train, y_train)\n",
    "print \"test accuracy: %0.3f \\n\" % clf.score(x_test, y_test)\n",
    "print \"train accuracy: %0.3f \\n\" % clf.score(x_train, y_train)\n",
    "print ' '.join([x[0] + ': ' + str(x[1]) + '\\n' for x in zip(x_train.columns, clf.feature_importances_)])"
   ]
  },
  {
   "cell_type": "markdown",
   "metadata": {},
   "source": [
    "## Plot feature importances"
   ]
  },
  {
   "cell_type": "code",
   "execution_count": null,
   "metadata": {
    "collapsed": true
   },
   "outputs": [],
   "source": []
  },
  {
   "cell_type": "markdown",
   "metadata": {},
   "source": [
    "## Draw tree\n",
    "\n",
    "- There are documented difficulties installing pydot\n",
    "- When installing this package:\n",
    "   \n",
    "   $ pip install .\n",
    "   \n",
    "   make note of where pydotplus is installed.  Add that path to your system path, as in the first line below:"
   ]
  },
  {
   "cell_type": "code",
   "execution_count": 6,
   "metadata": {
    "collapsed": true
   },
   "outputs": [],
   "source": [
    "import sys\n",
    "sys.path.append('/anaconda/lib/python2.7/site-packages')\n",
    "import pydotplus"
   ]
  },
  {
   "cell_type": "markdown",
   "metadata": {},
   "source": [
    "#### Now proceed to draw the tree:"
   ]
  },
  {
   "cell_type": "code",
   "execution_count": 7,
   "metadata": {
    "collapsed": false
   },
   "outputs": [
    {
     "data": {
      "text/plain": [
       "True"
      ]
     },
     "execution_count": 7,
     "metadata": {},
     "output_type": "execute_result"
    }
   ],
   "source": [
    "from sklearn.externals.six import StringIO\n",
    "\n",
    "dot_data = StringIO()\n",
    "tree.export_graphviz(clf, out_file = dot_data, feature_names = x_train.columns)\n",
    "graph = pydotplus.graph_from_dot_data(dot_data.getvalue())\n",
    "graph.write_pdf('../figures/draw_a_tree.pdf')"
   ]
  }
 ],
 "metadata": {
  "kernelspec": {
   "display_name": "Python 2",
   "language": "python",
   "name": "python2"
  },
  "language_info": {
   "codemirror_mode": {
    "name": "ipython",
    "version": 2
   },
   "file_extension": ".py",
   "mimetype": "text/x-python",
   "name": "python",
   "nbconvert_exporter": "python",
   "pygments_lexer": "ipython2",
   "version": "2.7.10"
  }
 },
 "nbformat": 4,
 "nbformat_minor": 0
}
