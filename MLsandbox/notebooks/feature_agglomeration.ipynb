{
 "cells": [
  {
   "cell_type": "code",
   "execution_count": 1,
   "metadata": {
    "collapsed": true
   },
   "outputs": [],
   "source": [
    "from sklearn.preprocessing import scale, MinMaxScaler\n",
    "from sklearn.decomposition import PCA\n",
    "from sklearn.cluster import KMeans, FeatureAgglomeration"
   ]
  },
  {
   "cell_type": "markdown",
   "metadata": {},
   "source": [
    "### 1. Scale the data\n",
    "\n",
    "        scale = MinMaxScaler()\n",
    "        scaled_data = scale.fit_transform(df[features])\n",
    "        \n",
    "        \n",
    "### 2. Perform FA\n",
    "\n",
    "        fa = FeatureAgglomeration(n_clusters=16, connectivity=None, affinity='l2', linkage='average')\n",
    "        fa.fit(scaled_data)\n",
    "        \n",
    "        \n",
    "### 3. repeat over different numbers of clusters and print results"
   ]
  }
 ],
 "metadata": {
  "kernelspec": {
   "display_name": "Python [conda root]",
   "language": "python",
   "name": "conda-root-py"
  },
  "language_info": {
   "codemirror_mode": {
    "name": "ipython",
    "version": 2
   },
   "file_extension": ".py",
   "mimetype": "text/x-python",
   "name": "python",
   "nbconvert_exporter": "python",
   "pygments_lexer": "ipython2",
   "version": "2.7.13"
  }
 },
 "nbformat": 4,
 "nbformat_minor": 2
}
