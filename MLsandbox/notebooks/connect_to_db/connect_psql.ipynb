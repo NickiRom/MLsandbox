{
 "cells": [
  {
   "cell_type": "code",
   "execution_count": 1,
   "metadata": {
    "collapsed": false
   },
   "outputs": [
    {
     "name": "stderr",
     "output_type": "stream",
     "text": [
      "//anaconda/lib/python2.7/site-packages/psycopg2/__init__.py:144: UserWarning: The psycopg2 wheel package will be renamed from release 2.8; in order to keep installing from binary please use \"pip install psycopg2-binary\" instead. For details see: <http://initd.org/psycopg/docs/install.html#binary-install-from-pypi>.\n",
      "  \"\"\")\n"
     ]
    }
   ],
   "source": [
    "import pandas as pd\n",
    "import os\n",
    "import psycopg2\n",
    "from psycopg2.extras import DictCursor\n",
    "import configparser\n",
    "import logging"
   ]
  },
  {
   "cell_type": "code",
   "execution_count": 2,
   "metadata": {
    "collapsed": true
   },
   "outputs": [],
   "source": [
    "class PGconnect:\n",
    "    def __init__(self, db, port=5432):\n",
    "        self.db = db\n",
    "        self.env = os.environ\n",
    "        self.port = port\n",
    "        logging.basicConfig()\n",
    "        self.log = logging.getLogger(__name__)\n",
    "        self.log.debug(\"PGconnect Initialized!\")\n",
    "\n",
    "        try:\n",
    "            self.con = self.connect()\n",
    "            self.log.debug(\"Connected to {}!\".format(db))\n",
    "        except:\n",
    "            self.log.error(\"Could not make a connection to {}!\".format(db))\n",
    "\n",
    "    def connect(self, db='cape-dev'):\n",
    "        \"\"\"\n",
    "        Connect to database.\n",
    "        Returns\n",
    "        -------\n",
    "        con: connection\n",
    "            psycopg2 `connection` object\n",
    "        \"\"\"\n",
    "        cp = configparser.ConfigParser()\n",
    "        try:\n",
    "            cp.read('/Users/{user}/config.ini'.format(user=self.env['USER']))\n",
    "        except:\n",
    "            self.log.error(\"could not read config file for {user}\".format(env['USER']))\n",
    "\n",
    "        connections = {}\n",
    "\n",
    "        for s in cp.sections():\n",
    "            connections[s] = {i[0]: i[1] for i in cp.items(s)}\n",
    "\n",
    "        conn = psycopg2.connect(**dict(cp.items(db)))\n",
    "\n",
    "        return conn\n",
    "    \n",
    "    def get_df(self, query):\n",
    "        \"\"\"\n",
    "        Get a dataframe from query.\n",
    "        Parameters\n",
    "        ----------\n",
    "        query: str\n",
    "            SQL query statement\n",
    "        Returns\n",
    "        -------\n",
    "        df: pandas.core.frame.DataFrame\n",
    "            Pandas dataframe object\n",
    "        \"\"\"\n",
    "        self.log.debug('Requesting a dataframe for query: {}'.format(query))\n",
    "        return pd.read_sql_query(query, con=self.con)"
   ]
  }
 ],
 "metadata": {
  "kernelspec": {
   "display_name": "Python [conda root]",
   "language": "python",
   "name": "conda-root-py"
  },
  "language_info": {
   "codemirror_mode": {
    "name": "ipython",
    "version": 2
   },
   "file_extension": ".py",
   "mimetype": "text/x-python",
   "name": "python",
   "nbconvert_exporter": "python",
   "pygments_lexer": "ipython2",
   "version": "2.7.13"
  }
 },
 "nbformat": 4,
 "nbformat_minor": 2
}
