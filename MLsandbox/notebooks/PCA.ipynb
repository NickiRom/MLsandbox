{
 "cells": [
  {
   "cell_type": "code",
   "execution_count": 1,
   "metadata": {
    "collapsed": true
   },
   "outputs": [],
   "source": [
    "import pandas as pd\n",
    "import numpy as np\n",
    "\n",
    "from sklearn.preprocessing import scale\n",
    "from sklearn.decomposition import PCA\n",
    "from sklearn.externals import joblib\n",
    "import matplotlib.pyplot as plt\n",
    "%matplotlib inline\n",
    "plt.style.use('seaborn-talk')"
   ]
  },
  {
   "cell_type": "code",
   "execution_count": null,
   "metadata": {
    "collapsed": true
   },
   "outputs": [],
   "source": [
    "data = pd.read_csv('path')\n",
    "data_scaled = scale(data[features])\n",
    "\n",
    "pca = PCA(n_components=None, svd_solver='auto')\n",
    "pca.fit(data_scaled)\n",
    "\n",
    "f = plt.figure(figsize=(12,6))\n",
    "plt.plot(range(0,len(pca.explained_variance_)), np.cumsum(pca.explained_variance_ratio_))\n",
    "plt.plot(range(0,len(pca.explained_variance_)), [0.85]*len(pca.explained_variance_), '--')\n",
    "ax = plt.gca()\n",
    "ax.set_xlabel('Number of components', fontdict={'size':20})\n",
    "ax.set_ylabel('Variance Explained')"
   ]
  }
 ],
 "metadata": {
  "kernelspec": {
   "display_name": "Python [conda root]",
   "language": "python",
   "name": "conda-root-py"
  },
  "language_info": {
   "codemirror_mode": {
    "name": "ipython",
    "version": 2
   },
   "file_extension": ".py",
   "mimetype": "text/x-python",
   "name": "python",
   "nbconvert_exporter": "python",
   "pygments_lexer": "ipython2",
   "version": "2.7.13"
  }
 },
 "nbformat": 4,
 "nbformat_minor": 2
}
