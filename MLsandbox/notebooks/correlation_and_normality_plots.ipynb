{
 "cells": [
  {
   "cell_type": "code",
   "execution_count": 1,
   "metadata": {
    "collapsed": false
   },
   "outputs": [
    {
     "name": "stdout",
     "output_type": "stream",
     "text": [
      "Populating the interactive namespace from numpy and matplotlib\n"
     ]
    },
    {
     "name": "stderr",
     "output_type": "stream",
     "text": [
      "//anaconda/lib/python2.7/site-packages/sklearn/cross_validation.py:44: DeprecationWarning: This module was deprecated in version 0.18 in favor of the model_selection module into which all the refactored classes and functions are moved. Also note that the interface of the new CV iterators are different from that of this module. This module will be removed in 0.20.\n",
      "  \"This module will be removed in 0.20.\", DeprecationWarning)\n",
      "//anaconda/lib/python2.7/site-packages/sklearn/grid_search.py:43: DeprecationWarning: This module was deprecated in version 0.18 in favor of the model_selection module into which all the refactored classes and functions are moved. This module will be removed in 0.20.\n",
      "  DeprecationWarning)\n"
     ]
    }
   ],
   "source": [
    "import pandas as pd\n",
    "from MLsandbox import model_dict\n",
    "%pylab inline"
   ]
  },
  {
   "cell_type": "markdown",
   "metadata": {},
   "source": [
    "## Read in the data and collect features by their data types\n",
    "\n",
    "The model_dict module has a **print_data_types** function that infers a data type for each feature and groups them for easy handling.  This is useful when doing operations that only apply to continuous features, or to categorical features.  To select only categorical features, you would use\n",
    "        df[features_dict['object']]"
   ]
  },
  {
   "cell_type": "code",
   "execution_count": 2,
   "metadata": {
    "collapsed": false
   },
   "outputs": [
    {
     "name": "stdout",
     "output_type": "stream",
     "text": [
      "inferring feature types:\n"
     ]
    },
    {
     "ename": "AttributeError",
     "evalue": "'module' object has no attribute 'infer_data_types'",
     "output_type": "error",
     "traceback": [
      "\u001b[0;31m---------------------------------------------------------------------------\u001b[0m",
      "\u001b[0;31mAttributeError\u001b[0m                            Traceback (most recent call last)",
      "\u001b[0;32m<ipython-input-2-1cc6b59fb83e>\u001b[0m in \u001b[0;36m<module>\u001b[0;34m()\u001b[0m\n\u001b[1;32m      2\u001b[0m \u001b[0;34m\u001b[0m\u001b[0m\n\u001b[1;32m      3\u001b[0m \u001b[0;32mprint\u001b[0m \u001b[0;34m\"inferring feature types:\"\u001b[0m\u001b[0;34m\u001b[0m\u001b[0m\n\u001b[0;32m----> 4\u001b[0;31m \u001b[0mfeatures_dict\u001b[0m \u001b[0;34m=\u001b[0m \u001b[0mmodel_dict\u001b[0m\u001b[0;34m.\u001b[0m\u001b[0minfer_data_types\u001b[0m\u001b[0;34m(\u001b[0m\u001b[0mdf\u001b[0m\u001b[0;34m)\u001b[0m\u001b[0;34m\u001b[0m\u001b[0m\n\u001b[0m\u001b[1;32m      5\u001b[0m \u001b[0;34m\u001b[0m\u001b[0m\n\u001b[1;32m      6\u001b[0m \u001b[0;32mprint\u001b[0m \u001b[0;34m\"\\n Specifying ordinal features, which could not be inferred\"\u001b[0m\u001b[0;34m\u001b[0m\u001b[0m\n",
      "\u001b[0;31mAttributeError\u001b[0m: 'module' object has no attribute 'infer_data_types'"
     ]
    }
   ],
   "source": [
    "df = pd.read_csv('../data/sample_data.csv', sep=',', header=0, index_col=0)\n",
    "\n",
    "print \"inferring feature types:\"\n",
    "features_dict = model_dict.infer_data_types(df)\n",
    "\n",
    "print \"\\n Specifying ordinal features, which could not be inferred\"\n",
    "# note: specified the non-existent feature 'x' to illustrate output when a feature is not found or is misspelled\n",
    "features_dict = model_dict.specify_ordinal(features_dict, ['target_variable', 'x'])\n",
    "\n",
    "print \"\\n Specifying categorical features like site_id, which were inferred as discrete\"\n",
    "features_dict = model_dict.specify_categorical(features_dict, ['line_id', 'site_id', 'strategy_id'])"
   ]
  },
  {
   "cell_type": "markdown",
   "metadata": {},
   "source": [
    "## Test features for i.i.d. assumption\n",
    "\n",
    "**1. How independent are the features?**"
   ]
  },
  {
   "cell_type": "code",
   "execution_count": null,
   "metadata": {
    "collapsed": true
   },
   "outputs": [],
   "source": [
    "# Covariance Matrix\n",
    "cov_mat = df.ix[:,1:14].corr(method='pearson')\n",
    "\n",
    "column_labels = cov_mat.columns\n",
    "row_labels = cov_mat.columns\n",
    "\n",
    "fig, ax = plt.subplots()\n",
    "heatmap = ax.pcolor(cov_mat, cmap=plt.cm.Blues)\n",
    "\n",
    "fig = plt.gcf()\n",
    "fig.set_size_inches(9.5,8)\n",
    "\n",
    "ax.set_frame_on(False)\n",
    "ax.set_xticks(np.arange(len(df.columns)-2)+0.5, minor=False)\n",
    "ax.set_yticks(np.arange(len(df.columns)-2)+0.5, minor=False)\n",
    "\n",
    "ax.invert_yaxis()\n",
    "ax.xaxis.tick_top()\n",
    "\n",
    "ax.set_xticklabels(row_labels, minor=False, fontsize=12, rotation=90)\n",
    "ax.set_yticklabels(column_labels, minor=False, fontsize=12)\n",
    "ax.set_title('Pearson correlation of features', fontsize=20, y=1.4)\n",
    "\n",
    "fig.colorbar(heatmap,ax=ax)\n",
    "\n",
    "plt.show()\n",
    "plt.savefig('P2A_features_pearson_correlation.jpg')"
   ]
  },
  {
   "cell_type": "markdown",
   "metadata": {},
   "source": [
    "**2. How well do the features follow a normal distribution?**"
   ]
  },
  {
   "cell_type": "code",
   "execution_count": null,
   "metadata": {
    "collapsed": true
   },
   "outputs": [],
   "source": [
    "X_cols = df.columns[1:14]\n",
    "Y_cols = df.columns[14]\n",
    " \n",
    "X = df[X_cols]\n",
    "Y = df[Y_cols]\n",
    " \n",
    "n = np.arange(1,14)\n",
    "plt.figure(figsize=(75, 125))\n",
    "plt.rc(\"lines\", lw=10, marker='o')\n",
    "for i in n:\n",
    "    ax = plt.subplot(5,3,i)\n",
    "    res = stats.probplot(df[df.columns[i]].dropna(), dist='norm', plot=plt)\n",
    "    ax.set_title(df.columns[i], fontsize = 60, fontweight='bold', y=.9)\n",
    "    ax.set_xlabel('Quantiles', fontsize=60)\n",
    "    ax.set_ylabel('Ordered Values', fontsize=60)\n",
    "    \n",
    "    for tick in ax.xaxis.get_major_ticks():\n",
    "        tick.label.set_fontsize(45)\n",
    "    for tick in ax.yaxis.get_major_ticks():\n",
    "        tick.label.set_fontsize(45)\n",
    "\n",
    "plt.show()\n",
    "plt.savefig('P2A_feature_probability_dist.png')"
   ]
  }
 ],
 "metadata": {
  "kernelspec": {
   "display_name": "Python 2",
   "language": "python",
   "name": "python2"
  },
  "language_info": {
   "codemirror_mode": {
    "name": "ipython",
    "version": 2
   },
   "file_extension": ".py",
   "mimetype": "text/x-python",
   "name": "python",
   "nbconvert_exporter": "python",
   "pygments_lexer": "ipython2",
   "version": "2.7.10"
  }
 },
 "nbformat": 4,
 "nbformat_minor": 0
}
