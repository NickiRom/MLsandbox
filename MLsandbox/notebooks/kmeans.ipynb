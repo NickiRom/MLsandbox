{
 "cells": [
  {
   "cell_type": "code",
   "execution_count": 2,
   "metadata": {
    "collapsed": true
   },
   "outputs": [],
   "source": [
    "import pandas as pd\n",
    "import numpy as np\n",
    "import matplotlib.pyplot as plt\n",
    "%matplotlib inline\n",
    "\n",
    "from sklearn.cluster import KMeans, FeatureAgglomeration\n",
    "\n",
    "from sklearn.cross_validation import KFold\n",
    "from sklearn.metrics import adjusted_mutual_info_score as ami\n",
    "from itertools import combinations"
   ]
  },
  {
   "cell_type": "code",
   "execution_count": null,
   "metadata": {
    "collapsed": true
   },
   "outputs": [],
   "source": [
    "\n",
    "km = {}\n",
    "mutual_info = {}\n",
    "\n",
    "kf = KFold(len(data), 5, shuffle=True)\n",
    "\n",
    "for num_clusters in range(3,10):\n",
    "    km[num_clusters]={}\n",
    "    \n",
    "    for i in range(0,5):\n",
    "        data = scale(data[features].sample(n=100000))\n",
    "        \n",
    "        km[num_clusters][i] = KMeans(init='k-means++', n_clusters=num_clusters, n_init=10)\n",
    "        km[num_clusters][i].fit(data)\n",
    "        \n",
    "    mutual_info[num_clusters] = (np.mean([ami(km[num_clusters][x[0]].predict(data),\n",
    "                                            km[num_clusters][x[1]].predict(data)) for x in combinations(km[num_clusters],2)]),\n",
    "                                 np.std([ami(km[num_clusters][x[0]].predict(data),\n",
    "                                            km[num_clusters][x[1]].predict(data)) for x in combinations(km[num_clusters],2)]))\n",
    "    \n",
    "plt.errorbar([score for score in mutual_info],\n",
    "            [score[1][0] for score in mutual_info.items()],\n",
    "            yerr=[score[1][1] for score in mutual_info.items()])\n",
    "plt.ylim([0,1])\n",
    "plt.xlabel('number of clusters')\n",
    "plt.ylabel('Adjusted Mutual Information')                 "
   ]
  }
 ],
 "metadata": {
  "kernelspec": {
   "display_name": "Python [conda root]",
   "language": "python",
   "name": "conda-root-py"
  },
  "language_info": {
   "codemirror_mode": {
    "name": "ipython",
    "version": 2
   },
   "file_extension": ".py",
   "mimetype": "text/x-python",
   "name": "python",
   "nbconvert_exporter": "python",
   "pygments_lexer": "ipython2",
   "version": "2.7.13"
  }
 },
 "nbformat": 4,
 "nbformat_minor": 2
}
