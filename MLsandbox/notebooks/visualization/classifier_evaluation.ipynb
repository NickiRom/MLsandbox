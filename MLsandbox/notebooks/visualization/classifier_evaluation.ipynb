{
 "cells": [
  {
   "cell_type": "code",
   "execution_count": 1,
   "metadata": {
    "collapsed": true
   },
   "outputs": [],
   "source": [
    "import pandas as pd\n",
    "import numpy as np\n",
    "from sklearn.model_selection import cross_val_score\n",
    "\n",
    "from sklearn.metrics import precision_recall_curve\n",
    "import itertools\n",
    "\n",
    "import matplotlib.pyplot as plt\n",
    "get_ipython().magic(u'matplotlib inline')"
   ]
  },
  {
   "cell_type": "code",
   "execution_count": 2,
   "metadata": {
    "collapsed": true
   },
   "outputs": [],
   "source": [
    "def plot_confusion_matrix(cm, title='Confusion matrix', cmap=plt.cm.Blues):\n",
    "    cm_norm = cm.astype('float')/cm.sum(axis=1)[:, np.newaxis]\n",
    "    plt.imshow(cm_norm, interpolation='nearest', cmap=cmap)\n",
    "    plt.title(title)\n",
    "    plt.colorbar()\n",
    "    tick_marks = np.arange(2)\n",
    "    plt.xticks(tick_marks, ['failure', 'success'], rotation=45)\n",
    "    plt.yticks(tick_marks, ['failure', 'success'])\n",
    "    plt.tight_layout()\n",
    "    plt.ylabel('True label')\n",
    "    plt.xlabel('Predicted label')\n",
    "    plt.show()\n",
    "    return"
   ]
  },
  {
   "cell_type": "code",
   "execution_count": 3,
   "metadata": {
    "collapsed": true
   },
   "outputs": [],
   "source": [
    "def plot_pr_curve(df, pred_col, gt_col, score_col, show=True):\n",
    "    p_r_thresh = {}\n",
    "    pr_curve_col = 'pr_curve_{0}'.format(pred_col)\n",
    "    df[pr_curve_col] = 1*(df[pred_col] == df[gt_col])\n",
    "    \n",
    "    _colors = itertools.cycle(['orangered', 'yellowgreen', 'royalblue', \n",
    "                               'darkorchid', 'goldenrod', 'teal', 'seagreen', 'firebrick'])\n",
    "    if show:\n",
    "        fig = plt.figure(figsize=(10,8))\n",
    "\n",
    "    for i, grp in df.groupby(pred_col):\n",
    "        try: \n",
    "            _precision, _recall, _thresholds = precision_recall_curve(grp[pr_curve_col], grp[score_col])\n",
    "            _recall = _recall*(len(grp[grp[pred_col]==grp[gt_col]])/(1.0*len(df[df[gt_col]==i])))\n",
    "            p_r_thresh[i] = _precision, _recall, _thresholds\n",
    "        except ZeroDivisionError:\n",
    "            #print \"ZeroDivisionError for i = %i with length %i\" %(i, len(grp[grp[gt_col]==i]))\n",
    "            _precision, _recall, _thresholds = [0,0],[0,0],[0]\n",
    "        except IndexError:\n",
    "            #print \"IndexError\"\n",
    "            _precision, _recall, _thresholds = [0,0],[0,0],[0]\n",
    "        \n",
    "        if show:\n",
    "            plt.plot(_recall, _precision, lw = 1, color = next(_colors), label = grp[pred_col].unique()[0])\n",
    "            plt.xlabel('recall')\n",
    "            plt.ylabel('precision')\n",
    "            plt.xlim([0.0, 1.0])\n",
    "            plt.ylim([0.0, 1.05])\n",
    "        \n",
    "    if show:\n",
    "        plt.axes().set_aspect('equal')\n",
    "        plt.grid(axis='both',  # set both grid lines\n",
    "               linestyle='--',  # use dashed lines\n",
    "               which='major',  # only major ticks\n",
    "               color='gray',  # line colour\n",
    "               alpha=0.7, )  # make lines semi-translucent\n",
    "        plt.legend(loc='lower right')\n",
    "    return p_r_thresh"
   ]
  },
  {
   "cell_type": "code",
   "execution_count": 4,
   "metadata": {
    "collapsed": true
   },
   "outputs": [],
   "source": [
    "def confusion_heatmap_normed(before_conf_cnt, \n",
    "                      after_conf_cnt, \n",
    "                      plot_metric = 'recall',\n",
    "                      plot_delta = False, \n",
    "                      feature = 'roof_condition',\n",
    "                      title = ''):\n",
    "    if plot_metric == 'recall':\n",
    "        label_sums = before_conf_cnt.sum(axis = 1)\n",
    "    elif plot_metric == 'precision':\n",
    "        label_sums = before_conf_cnt.sum(axis = 0)\n",
    "    else: return \"plot metric not recognized. Choose 'precision' or 'recall'\"\n",
    "    \n",
    "    num_subplots = 2\n",
    "    data_to_plot = {}\n",
    "    \n",
    "    # if plotting the change, we only need one plot\n",
    "    if plot_delta:\n",
    "        \n",
    "        diff = after_conf_cnt.values - before_conf_cnt.values\n",
    "        data_to_plot[0] = diff / (1.0 * before_conf_cnt.sum(axis = 0)[:, np.newaxis])\n",
    "        data_to_plot[1] = diff / (1.0 * before_conf_cnt.sum(axis = 1)[:, np.newaxis])\n",
    "        \n",
    "        heatmap_palette = plt.cm.coolwarm_r\n",
    "        scale = np.amax(np.absolute(data_to_plot[0]))\n",
    "        vmin, vmax = -scale, scale\n",
    "    else:\n",
    "        data_to_plot[0] = before_conf_cnt.values / (1.0* label_sums[:, np.newaxis])\n",
    "        data_to_plot[1] = after_conf_cnt.values / (1.0* label_sums[:, np.newaxis])\n",
    "        heatmap_palette = plt.cm.ocean_r\n",
    "        vmin, vmax = 0, 1.0\n",
    "        \n",
    "    # set up the figure\n",
    "    fig, ax = plt.subplots(nrows = 1, ncols = 2, squeeze = True)        \n",
    "    column_labels = [x[1] for x in after_conf_cnt.columns]\n",
    "    row_labels = after_conf_cnt.index\n",
    "\n",
    "    for i in range(0, num_subplots):\n",
    "        \n",
    "        heatmap = ax[i].pcolor(data_to_plot[i], cmap=heatmap_palette, vmin = vmin, vmax = vmax)\n",
    "\n",
    "        fig = plt.gcf()\n",
    "        fig.set_size_inches(18, 7)\n",
    "\n",
    "        ax[i].set_frame_on(False)\n",
    "        ax[i].set_xticks(np.arange(len(column_labels))+0.5, minor=False)\n",
    "        ax[i].set_yticks(np.arange(len(row_labels))+0.5, minor=False)\n",
    "\n",
    "        ax[i].set_ylabel('True Label', fontsize = 18)\n",
    "        ax[i].set_xlabel('Predicted Label', fontsize = 18)\n",
    "\n",
    "        ax[i].invert_yaxis()\n",
    "\n",
    "        ax[i].set_xticklabels(row_labels, minor=False, fontsize=12, rotation=90)\n",
    "        ax[i].set_yticklabels(column_labels, minor=False, fontsize=12)\n",
    "        \n",
    "        filename = 'metaclassifier_{0}_{1}{2}.png'.format(feature, plot_metric, '' if plot_delta == False else '_delta')\n",
    "        title = '{0}: confusion matrix\\n{1} metaclassifier: {2}'.format(feature, \n",
    "                                                                        'delta due to' if plot_delta == True else 'before' if i==0 else 'after',\n",
    "                                                                       plot_metric if plot_delta == False else 'recall' if i == 1 else 'precision')\n",
    "        ax[i].set_title(title, fontsize=18, y = 1.1)\n",
    "\n",
    "        fig.colorbar(heatmap,ax=ax[i])\n",
    "        plt.savefig('../figures/{0}'.format(filename))"
   ]
  }
 ],
 "metadata": {
  "kernelspec": {
   "display_name": "Python [conda root]",
   "language": "python",
   "name": "conda-root-py"
  },
  "language_info": {
   "codemirror_mode": {
    "name": "ipython",
    "version": 2
   },
   "file_extension": ".py",
   "mimetype": "text/x-python",
   "name": "python",
   "nbconvert_exporter": "python",
   "pygments_lexer": "ipython2",
   "version": "2.7.13"
  }
 },
 "nbformat": 4,
 "nbformat_minor": 2
}
