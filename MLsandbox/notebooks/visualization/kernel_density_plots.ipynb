{
 "cells": [
  {
   "cell_type": "code",
   "execution_count": 2,
   "metadata": {
    "collapsed": true
   },
   "outputs": [],
   "source": [
    "import pandas as pd\n",
    "import numpy as np\n",
    "from scipy.optimize import curve_fit\n",
    "import matplotlib.pyplot as plt\n",
    "import seaborn as sns\n",
    "%matplotlib inline"
   ]
  },
  {
   "cell_type": "code",
   "execution_count": null,
   "metadata": {
    "collapsed": true
   },
   "outputs": [],
   "source": [
    "sns.set(style='darkgrid')\n",
    "\n",
    "ax.set_aspect('equal')\n",
    "\n",
    "subset1 = data[data[col1]==dim1]\n",
    "subset2 = data[data[col1]==dim2]\n",
    "\n",
    "for i, combo in enumerate(combinations(features, 2)):\n",
    "    ax = plt.subplot(n_feats, 1, i+1)\n",
    "    \n",
    "    # draw contours\n",
    "    ax = sns.kdeplot(data[subset1][combo[0]],data[subset1][combo[1]],  \n",
    "                     cmap='Reds', n_levels=5)\n",
    "    \n",
    "    # draw shaded contours\n",
    "    ax = sns.kdeplot(data[subset2][combo[0]],data[subset2][combo[1]], \n",
    "                     cmap='Bluess', shade=True, shade_lowest=False, alpha = 0.7)\n",
    "    ax.set_xlim([-1., 1.])\n",
    "    ax.set_ylim([-1., 1.])\n",
    "    "
   ]
  }
 ],
 "metadata": {
  "kernelspec": {
   "display_name": "Python [conda root]",
   "language": "python",
   "name": "conda-root-py"
  },
  "language_info": {
   "codemirror_mode": {
    "name": "ipython",
    "version": 2
   },
   "file_extension": ".py",
   "mimetype": "text/x-python",
   "name": "python",
   "nbconvert_exporter": "python",
   "pygments_lexer": "ipython2",
   "version": "2.7.13"
  }
 },
 "nbformat": 4,
 "nbformat_minor": 2
}
