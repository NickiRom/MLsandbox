{
 "cells": [
  {
   "cell_type": "markdown",
   "metadata": {},
   "source": [
    "#### About the data source\n",
    "\n",
    "Because this is a proprietary data source, it will be available to RadiumOne only.  Please contact  me for access."
   ]
  },
  {
   "cell_type": "code",
   "execution_count": null,
   "metadata": {
    "collapsed": false
   },
   "outputs": [],
   "source": [
    "#import model_dict\n",
    "import pandas as pd\n",
    "import csv as csv\n",
    "import numpy as np\n",
    "from sklearn.ensemble import RandomForestClassifier\n",
    "import sklearn as sk\n",
    "import time\n",
    "import sys\n",
    "%pylab inline\n",
    "\n",
    "sys.path.append('/path/to/model_dict.py/')\n",
    "\n",
    "import model_dict\n",
    "rcParams['figure.figsize'] = 20, 5\n",
    "current_date = time.strftime(\"%Y%m%d\")"
   ]
  },
  {
   "cell_type": "markdown",
   "metadata": {},
   "source": [
    "### Instructions!\n",
    "\n",
    "- place the following in a fresh directory:\n",
    "    \n",
    "    1. this iPython notebook\n",
    "    2. Nicole's grid search module: model_dict.py\n",
    "    3. data: hit_retarget_site_ua_conversion.csv\n",
    "    \n",
    "    \n",
    "- in the same directory, make a folder called \"models\".  Your models will be placed in this folder automatically\n",
    "- run the below code and explore the data!"
   ]
  },
  {
   "cell_type": "code",
   "execution_count": null,
   "metadata": {
    "collapsed": false
   },
   "outputs": [],
   "source": [
    "# read in the data (should be in same directory as this ipython notebook)\n",
    "df_raw = pd.read_csv('/path/to/data.csv', sep = '\\t', header = 0)\n",
    "df_raw.columns = [...]"
   ]
  },
  {
   "cell_type": "code",
   "execution_count": null,
   "metadata": {
    "collapsed": true
   },
   "outputs": [],
   "source": [
    "# see breakdown of successes and failures.\n",
    "# currently configured to print breakdown by stratifying 'ua_family'.\n",
    "# recommended to check breakdown by stratifying on other features as well\n",
    "_,_ = model_dict.success_breakdown(df_raw, by_column='ua_family', nan_breakdown=True)"
   ]
  },
  {
   "cell_type": "markdown",
   "metadata": {},
   "source": [
    "### Now use model_dict.py module to do grid search on thousands of random forests"
   ]
  },
  {
   "cell_type": "code",
   "execution_count": null,
   "metadata": {
    "collapsed": true
   },
   "outputs": [],
   "source": [
    "params = {'max_depth':[5,6,7,8,9,10, None],\n",
    "          'max_features': range(2, len(features)),\n",
    "          'min_samples_leaf':[1,2,4,6],\n",
    "          'criterion': ['gini', 'entropy'],\n",
    "          'class_weight':['auto', 'subsample', None]}\n",
    "\n",
    "rf = RandomForestClassifier(n_estimators=100)"
   ]
  },
  {
   "cell_type": "markdown",
   "metadata": {},
   "source": [
    "### To make models, execute the following code block\n",
    "**(make sure to comment out after so you don't repeat the grid search)**\n",
    "\n",
    "Should take about 40 minutes to run for a 25,000 row dataset"
   ]
  },
  {
   "cell_type": "code",
   "execution_count": null,
   "metadata": {
    "collapsed": true
   },
   "outputs": [],
   "source": [
    "models = model_dict.ModelDict(prefix='%s_modelsearch_example' % current_date, params=params, initialization='make', estimator = rf)\n",
    "models.make_models(x_train, y_train)"
   ]
  },
  {
   "cell_type": "markdown",
   "metadata": {},
   "source": [
    "### Once models are made, comment out the above cell. \n",
    "From now on, you can use the below cell to retrieve them"
   ]
  },
  {
   "cell_type": "code",
   "execution_count": null,
   "metadata": {
    "collapsed": true
   },
   "outputs": [],
   "source": [
    "#models = model_dict.ModelDict(prefix='%s_amex_rf_withsite' % current_date, params=params, initialization='retrieve', estimator = rf)"
   ]
  },
  {
   "cell_type": "code",
   "execution_count": null,
   "metadata": {
    "collapsed": true
   },
   "outputs": [],
   "source": [
    "models.display_models()"
   ]
  },
  {
   "cell_type": "markdown",
   "metadata": {},
   "source": [
    "### Check model performance\n"
   ]
  },
  {
   "cell_type": "code",
   "execution_count": null,
   "metadata": {
    "collapsed": true
   },
   "outputs": [],
   "source": [
    "mlpl = model_dict.MlPlot(models.model_dict, x_test = x_test, y_test = y_test, evaluation_metrics = ['f1', 'recall', 'precision', 'f1_weighted'])\n",
    "mlpl.display_performance()"
   ]
  },
  {
   "cell_type": "markdown",
   "metadata": {},
   "source": [
    "### Predict performance (for use on your holdout set of data)\n",
    "\n",
    "Here I'll predict performance on the test set.  You'll make a holdout set before doing the test/train split above, and then score that here."
   ]
  },
  {
   "cell_type": "code",
   "execution_count": null,
   "metadata": {
    "collapsed": true
   },
   "outputs": [],
   "source": [
    "%pylab inline\n",
    "\n",
    "best_model = models.__getmodel__('{0}_modelsearch_example_f1'.format(current_date))\n",
    "prediction = [p[1] for p in best_model.predict_proba(x_test[features])]\n",
    "\n",
    "#visualize the results in a histogram\n",
    "histogram = hist(prediction)"
   ]
  }
 ],
 "metadata": {
  "kernelspec": {
   "display_name": "Python 2",
   "language": "python",
   "name": "python2"
  },
  "language_info": {
   "codemirror_mode": {
    "name": "ipython",
    "version": 2
   },
   "file_extension": ".py",
   "mimetype": "text/x-python",
   "name": "python",
   "nbconvert_exporter": "python",
   "pygments_lexer": "ipython2",
   "version": "2.7.10"
  }
 },
 "nbformat": 4,
 "nbformat_minor": 0
}
