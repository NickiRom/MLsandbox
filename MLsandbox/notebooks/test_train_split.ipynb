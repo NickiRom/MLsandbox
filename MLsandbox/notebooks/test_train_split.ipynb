{
 "cells": [
  {
   "cell_type": "code",
   "execution_count": 83,
   "metadata": {
    "collapsed": false
   },
   "outputs": [],
   "source": [
    "import pandas as pd\n",
    "import numpy as np\n",
    "from MLsandbox import model_dict "
   ]
  },
  {
   "cell_type": "code",
   "execution_count": 84,
   "metadata": {
    "collapsed": false
   },
   "outputs": [
    {
     "data": {
      "text/html": [
       "<div style=\"max-height:1000px;max-width:1500px;overflow:auto;\">\n",
       "<table border=\"1\" class=\"dataframe\">\n",
       "  <thead>\n",
       "    <tr style=\"text-align: right;\">\n",
       "      <th></th>\n",
       "      <th>site_id</th>\n",
       "      <th>strategy_id</th>\n",
       "      <th>list_type</th>\n",
       "      <th>line_id</th>\n",
       "      <th>adv_id</th>\n",
       "      <th>adv_vertical</th>\n",
       "      <th>name</th>\n",
       "      <th>goal</th>\n",
       "      <th>price</th>\n",
       "      <th>limit</th>\n",
       "      <th>...</th>\n",
       "      <th>win_rate_site</th>\n",
       "      <th>win_rate_strat</th>\n",
       "      <th>cvr_strat</th>\n",
       "      <th>cvr</th>\n",
       "      <th>line_cvr</th>\n",
       "      <th>hist_zscore</th>\n",
       "      <th>overlap</th>\n",
       "      <th>target</th>\n",
       "      <th>win_rate_site_table</th>\n",
       "      <th>win_rate_strat_table</th>\n",
       "    </tr>\n",
       "  </thead>\n",
       "  <tbody>\n",
       "    <tr>\n",
       "      <th>0</th>\n",
       "      <td>82932</td>\n",
       "      <td>313729</td>\n",
       "      <td>testing</td>\n",
       "      <td>20049</td>\n",
       "      <td>206</td>\n",
       "      <td>Travel</td>\n",
       "      <td>Nicole</td>\n",
       "      <td>0</td>\n",
       "      <td>3.95</td>\n",
       "      <td>10000</td>\n",
       "      <td>...</td>\n",
       "      <td>0.423778</td>\n",
       "      <td>0.111431</td>\n",
       "      <td>0</td>\n",
       "      <td>0.001197</td>\n",
       "      <td>0</td>\n",
       "      <td>2.708366</td>\n",
       "      <td>0.001066</td>\n",
       "      <td>0</td>\n",
       "      <td>0.450094</td>\n",
       "      <td>0.249479</td>\n",
       "    </tr>\n",
       "    <tr>\n",
       "      <th>1</th>\n",
       "      <td>90474</td>\n",
       "      <td>313729</td>\n",
       "      <td>testing</td>\n",
       "      <td>20049</td>\n",
       "      <td>206</td>\n",
       "      <td>Travel</td>\n",
       "      <td>Nicole</td>\n",
       "      <td>0</td>\n",
       "      <td>3.95</td>\n",
       "      <td>10000</td>\n",
       "      <td>...</td>\n",
       "      <td>0.163010</td>\n",
       "      <td>0.111431</td>\n",
       "      <td>0</td>\n",
       "      <td>0.001239</td>\n",
       "      <td>0</td>\n",
       "      <td>1.188635</td>\n",
       "      <td>0.000703</td>\n",
       "      <td>0</td>\n",
       "      <td>0.158050</td>\n",
       "      <td>0.249479</td>\n",
       "    </tr>\n",
       "    <tr>\n",
       "      <th>2</th>\n",
       "      <td>92345</td>\n",
       "      <td>313729</td>\n",
       "      <td>testing</td>\n",
       "      <td>20049</td>\n",
       "      <td>206</td>\n",
       "      <td>Travel</td>\n",
       "      <td>Nicole</td>\n",
       "      <td>0</td>\n",
       "      <td>3.95</td>\n",
       "      <td>10000</td>\n",
       "      <td>...</td>\n",
       "      <td>0.318358</td>\n",
       "      <td>0.111431</td>\n",
       "      <td>0</td>\n",
       "      <td>0.000729</td>\n",
       "      <td>0</td>\n",
       "      <td>1.503285</td>\n",
       "      <td>0.000873</td>\n",
       "      <td>0</td>\n",
       "      <td>0.360591</td>\n",
       "      <td>0.249479</td>\n",
       "    </tr>\n",
       "    <tr>\n",
       "      <th>3</th>\n",
       "      <td>92415</td>\n",
       "      <td>313729</td>\n",
       "      <td>testing</td>\n",
       "      <td>20049</td>\n",
       "      <td>206</td>\n",
       "      <td>Travel</td>\n",
       "      <td>Nicole</td>\n",
       "      <td>0</td>\n",
       "      <td>3.95</td>\n",
       "      <td>10000</td>\n",
       "      <td>...</td>\n",
       "      <td>0.133199</td>\n",
       "      <td>0.111431</td>\n",
       "      <td>0</td>\n",
       "      <td>0.005894</td>\n",
       "      <td>0</td>\n",
       "      <td>35.153628</td>\n",
       "      <td>0.004614</td>\n",
       "      <td>0</td>\n",
       "      <td>0.113717</td>\n",
       "      <td>0.249479</td>\n",
       "    </tr>\n",
       "    <tr>\n",
       "      <th>4</th>\n",
       "      <td>92425</td>\n",
       "      <td>313729</td>\n",
       "      <td>testing</td>\n",
       "      <td>20049</td>\n",
       "      <td>206</td>\n",
       "      <td>Travel</td>\n",
       "      <td>Nicole</td>\n",
       "      <td>0</td>\n",
       "      <td>3.95</td>\n",
       "      <td>10000</td>\n",
       "      <td>...</td>\n",
       "      <td>0.379310</td>\n",
       "      <td>0.111431</td>\n",
       "      <td>0</td>\n",
       "      <td>0.000000</td>\n",
       "      <td>0</td>\n",
       "      <td>-0.091378</td>\n",
       "      <td>0.000344</td>\n",
       "      <td>0</td>\n",
       "      <td>0.019308</td>\n",
       "      <td>0.249479</td>\n",
       "    </tr>\n",
       "  </tbody>\n",
       "</table>\n",
       "<p>5 rows × 26 columns</p>\n",
       "</div>"
      ],
      "text/plain": [
       "   site_id  strategy_id list_type  line_id  adv_id adv_vertical    name  goal  \\\n",
       "0    82932       313729   testing    20049     206       Travel  Nicole     0   \n",
       "1    90474       313729   testing    20049     206       Travel  Nicole     0   \n",
       "2    92345       313729   testing    20049     206       Travel  Nicole     0   \n",
       "3    92415       313729   testing    20049     206       Travel  Nicole     0   \n",
       "4    92425       313729   testing    20049     206       Travel  Nicole     0   \n",
       "\n",
       "   price  limit          ...           win_rate_site  win_rate_strat  \\\n",
       "0   3.95  10000          ...                0.423778        0.111431   \n",
       "1   3.95  10000          ...                0.163010        0.111431   \n",
       "2   3.95  10000          ...                0.318358        0.111431   \n",
       "3   3.95  10000          ...                0.133199        0.111431   \n",
       "4   3.95  10000          ...                0.379310        0.111431   \n",
       "\n",
       "   cvr_strat       cvr  line_cvr  hist_zscore   overlap  target  \\\n",
       "0          0  0.001197         0     2.708366  0.001066       0   \n",
       "1          0  0.001239         0     1.188635  0.000703       0   \n",
       "2          0  0.000729         0     1.503285  0.000873       0   \n",
       "3          0  0.005894         0    35.153628  0.004614       0   \n",
       "4          0  0.000000         0    -0.091378  0.000344       0   \n",
       "\n",
       "   win_rate_site_table  win_rate_strat_table  \n",
       "0             0.450094              0.249479  \n",
       "1             0.158050              0.249479  \n",
       "2             0.360591              0.249479  \n",
       "3             0.113717              0.249479  \n",
       "4             0.019308              0.249479  \n",
       "\n",
       "[5 rows x 26 columns]"
      ]
     },
     "execution_count": 84,
     "metadata": {},
     "output_type": "execute_result"
    }
   ],
   "source": [
    "df = pd.read_csv('../data/sample_data_cleaned.csv', sep = ',', header = 0, index_col=0)\n",
    "df.head()"
   ]
  },
  {
   "cell_type": "markdown",
   "metadata": {},
   "source": [
    "## First, a simple split\n",
    "\n",
    "#### Define the desired test-train split\n",
    "\n",
    "Here, we want about 75% of records to be in the training set, with the remaining 25% serving as the test set"
   ]
  },
  {
   "cell_type": "code",
   "execution_count": 85,
   "metadata": {
    "collapsed": false
   },
   "outputs": [
    {
     "data": {
      "text/html": [
       "<div style=\"max-height:1000px;max-width:1500px;overflow:auto;\">\n",
       "<table border=\"1\" class=\"dataframe\">\n",
       "  <thead>\n",
       "    <tr style=\"text-align: right;\">\n",
       "      <th></th>\n",
       "      <th>is_train</th>\n",
       "    </tr>\n",
       "  </thead>\n",
       "  <tbody>\n",
       "    <tr>\n",
       "      <th>0</th>\n",
       "      <td>True</td>\n",
       "    </tr>\n",
       "    <tr>\n",
       "      <th>1</th>\n",
       "      <td>True</td>\n",
       "    </tr>\n",
       "    <tr>\n",
       "      <th>2</th>\n",
       "      <td>True</td>\n",
       "    </tr>\n",
       "    <tr>\n",
       "      <th>3</th>\n",
       "      <td>False</td>\n",
       "    </tr>\n",
       "    <tr>\n",
       "      <th>4</th>\n",
       "      <td>True</td>\n",
       "    </tr>\n",
       "  </tbody>\n",
       "</table>\n",
       "</div>"
      ],
      "text/plain": [
       "  is_train\n",
       "0     True\n",
       "1     True\n",
       "2     True\n",
       "3    False\n",
       "4     True"
      ]
     },
     "execution_count": 85,
     "metadata": {},
     "output_type": "execute_result"
    }
   ],
   "source": [
    "pct_train = 0.75\n",
    "\n",
    "# For each row in df, generate a random number from 0 to 1.\n",
    "# If the number is < pct_train for a row, value for 'is_train' = True.\n",
    "df['is_train'] = np.random.uniform(0,1, len(df)) < 0.75\n",
    "df[['is_train']].head()"
   ]
  },
  {
   "cell_type": "markdown",
   "metadata": {},
   "source": [
    "#### Define train and test data\n",
    "\n",
    "These are the subsets of df that have 'is_train' = True and False, respectively"
   ]
  },
  {
   "cell_type": "code",
   "execution_count": 86,
   "metadata": {
    "collapsed": false
   },
   "outputs": [
    {
     "name": "stdout",
     "output_type": "stream",
     "text": [
      "Training set has 1484 records\n",
      "Test set has 514 records\n"
     ]
    }
   ],
   "source": [
    "train, test = df[df['is_train']==True], df[df['is_train']==False]\n",
    "print \"Training set has %s records\" %str(len(train))\n",
    "print \"Test set has %s records\" %str(len(test))"
   ]
  },
  {
   "cell_type": "markdown",
   "metadata": {},
   "source": [
    "#### Split train and test data into features and target variables\n",
    "\n",
    "and then print a list of features by their data types"
   ]
  },
  {
   "cell_type": "code",
   "execution_count": 87,
   "metadata": {
    "collapsed": false
   },
   "outputs": [],
   "source": [
    "x_train = train.drop(['target'], axis = 1)\n",
    "y_train = train['target']\n",
    "x_test = test.drop(['target'], axis = 1)\n",
    "y_test = test['target']"
   ]
  },
  {
   "cell_type": "markdown",
   "metadata": {},
   "source": [
    "## Use sklearn's built-in test_train_split function\n",
    "\n",
    "The first step is to define the columns in our data frame that are features.  Then we can separate the dataframe into features versus target, like so:  \n",
    "\n",
    "    features_data, target_data = df[features], df[target]\n",
    "\n",
    "This becomes most useful when you want to remove certain features from the model that were included in your original dataset\n",
    "\n"
   ]
  },
  {
   "cell_type": "code",
   "execution_count": 88,
   "metadata": {
    "collapsed": false
   },
   "outputs": [],
   "source": [
    "from sklearn.model_selection import train_test_split\n",
    "\n",
    "features = [x for x in df.columns if x != 'target']\n",
    "target = 'target'"
   ]
  },
  {
   "cell_type": "markdown",
   "metadata": {},
   "source": [
    "#### Now, implement sklearn's train_test_split\n",
    "\n",
    "We are simultaneously splitting the dataframe by columns and by rows:\n",
    "- by columns: by indicating that df[features] are the features columns\n",
    "- by rows: by indicating that we want each row considered for the test set with 0.3 or 30% probability\n",
    "\n"
   ]
  },
  {
   "cell_type": "code",
   "execution_count": 89,
   "metadata": {
    "collapsed": false
   },
   "outputs": [
    {
     "name": "stdout",
     "output_type": "stream",
     "text": [
      "X_train and Y_train have 1598 records: 46 successes and 1552 failures\n",
      "X_test and Y_test have 400 records: 7 successes and 393 failures\n"
     ]
    }
   ],
   "source": [
    "X_train, X_test, Y_train, Y_test = train_test_split(df[features], df[target], test_size=0.2, random_state=12)\n",
    "\n",
    "print 'X_train and Y_train have {0} records: {1} successes and {2} failures'.format(str(len(X_train)), str(sum(Y_train)), str(len(X_train) - sum(Y_train)))\n",
    "print 'X_test and Y_test have {0} records: {1} successes and {2} failures'.format(str(len(X_test)), str(sum(Y_test)), str(len(X_test) - sum(Y_test)))"
   ]
  },
  {
   "cell_type": "markdown",
   "metadata": {},
   "source": [
    "## Stratified split using sklearn\n",
    "\n",
    "When dealing with rare events, you may find that a typical train-test split leaves one subset with very few examples of a target class.  To get an accurate picture of recall and precision, you should have train and test sets with similar class balance.  StratifiedShuffleSplit is one way to do this."
   ]
  },
  {
   "cell_type": "code",
   "execution_count": 90,
   "metadata": {
    "collapsed": false
   },
   "outputs": [
    {
     "name": "stdout",
     "output_type": "stream",
     "text": [
      "('TRAIN:', 1598, 'TEST:', 400)\n",
      "X_train and Y_train have 1598 records: 42 successes and 1556 failures\n",
      "X_test and Y_test have 400 records: 11 successes and 389 failures\n"
     ]
    }
   ],
   "source": [
    "from sklearn.model_selection import StratifiedShuffleSplit as strat_split\n",
    "\n",
    "sss = strat_split(n_splits=1, test_size=0.2, random_state=12)\n",
    "\n",
    "for train_index, test_index in sss.split(df[features], df[target]):\n",
    "    print(\"TRAIN:\", len(train_index), \"TEST:\", len(test_index))\n",
    "    Xtrain, Xtest = df.ix[train_index, features], df.ix[test_index, features]\n",
    "    ytrain, ytest = df.ix[train_index, target], df.ix[test_index, target]\n",
    "    \n",
    "print 'X_train and Y_train have {0} records: {1} successes and {2} failures'.format(str(len(Xtrain)), str(sum(ytrain)), str(len(Xtrain) - sum(ytrain)))\n",
    "print 'X_test and Y_test have {0} records: {1} successes and {2} failures'.format(str(len(Xtest)), str(sum(ytest)), str(len(Xtest) - sum(ytest)))"
   ]
  },
  {
   "cell_type": "markdown",
   "metadata": {},
   "source": [
    "## K-fold cross-validation\n",
    "\n",
    "Separates the data into K \"folds\" of equal length.  Then, each fold is held out as a test set while the model is trained on the remaining data.  This produces a cross-validation score K times, which can be averaged to approximate an accurate depiction of how the model will perform on a new dataset."
   ]
  },
  {
   "cell_type": "code",
   "execution_count": 91,
   "metadata": {
    "collapsed": true
   },
   "outputs": [],
   "source": [
    "from sklearn.model_selection import KFold\n",
    "\n",
    "kf = KFold(n_splits=2)\n",
    "for train, test in kf.split(df):\n",
    "    xtrain, xtest = df.ix[train, features], df.ix[test, features]\n",
    "    ytrain, ytest = df.ix[train, target], df.ix[test, target]\n",
    "    # fit model on training data here\n",
    "    # predict on test data here\n",
    "    # print evaluation score here"
   ]
  },
  {
   "cell_type": "markdown",
   "metadata": {},
   "source": [
    "#### read more here: https://pdfs.semanticscholar.org/0be0/d781305750b37acb35fa187febd8db67bfcc.pdf"
   ]
  }
 ],
 "metadata": {
  "kernelspec": {
   "display_name": "Python 2",
   "language": "python",
   "name": "python2"
  },
  "language_info": {
   "codemirror_mode": {
    "name": "ipython",
    "version": 2
   },
   "file_extension": ".py",
   "mimetype": "text/x-python",
   "name": "python",
   "nbconvert_exporter": "python",
   "pygments_lexer": "ipython2",
   "version": "2.7.10"
  }
 },
 "nbformat": 4,
 "nbformat_minor": 0
}
