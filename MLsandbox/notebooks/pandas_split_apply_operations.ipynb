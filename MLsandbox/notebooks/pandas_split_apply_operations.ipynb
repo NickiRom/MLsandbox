{
 "cells": [
  {
   "cell_type": "code",
   "execution_count": 1,
   "metadata": {
    "collapsed": true
   },
   "outputs": [],
   "source": [
    "import pandas as pd\n",
    "import numpy as np"
   ]
  },
  {
   "cell_type": "markdown",
   "metadata": {},
   "source": [
    "## Pandas groupby operations\n",
    "\n",
    "These can be applied to a pandas.groupby object using the following syntax:\n",
    "\n",
    "        df.groupby(by=column_name).apply(lambda g: divide(g, num_col, denom_col))"
   ]
  },
  {
   "cell_type": "code",
   "execution_count": 2,
   "metadata": {
    "collapsed": true
   },
   "outputs": [],
   "source": [
    "def divide(g, num_col, denom_col):\n",
    "    return df.loc[g.index, num_col].sum()/df.loc[g.index, denom_col].sum().astype(float) \n",
    "\n",
    "def wavg(g, weight_col):\n",
    "    return np.average(g, weights = df.loc[g.index, weight_col])\n",
    "\n",
    "def pct_won(g):\n",
    "    return divide(g, 'num_won', 'num_bids')*100\n",
    "    \n",
    "def w_avg_bid(g):\n",
    "    return wavg(g, 'num_bids')\n",
    "\n",
    "def w_avg_paid(g):\n",
    "    return wavg(g, 'num_won')\n",
    "\n",
    "def ctr(g):\n",
    "    return divide(g, 'clicks', 'imps')*100\n",
    "\n",
    "def ecpa(g):\n",
    "    # total revenue divided by # cons\n",
    "    return divide(g, 'revenue', 'cons')\n",
    "\n",
    "def revenue(g):\n",
    "    return df.loc[g.index, 'eCPM'].unique()[0]*df.loc[g.index, 'num_won'].sum()/1000\n",
    "    \n",
    "def margin(g):\n",
    "    # revenue - total spend divided by revenue\n",
    "    return 100*(df.loc[g.index, 'revenue'].sum() - df.loc[g.index, 'total_spend'].sum())/df.loc[g.index, 'revenue'].sum().astype(float)\n",
    "\n",
    "def convert_to_minutes(txt):\n",
    "    if 'day' in txt:\n",
    "        split = [item for item in txt.split(' ') if item != '']\n",
    "        start = int(split[0])*24*60\n",
    "        end = int(split[1])*24*60\n",
    "        return str(start) + ' ' + str(end) + ' ' + split[2].replace('day', 'minute')\n",
    "    return txt\n",
    "\n"
   ]
  },
  {
   "cell_type": "markdown",
   "metadata": {},
   "source": [
    "## Read data"
   ]
  },
  {
   "cell_type": "code",
   "execution_count": 3,
   "metadata": {
    "collapsed": false
   },
   "outputs": [
    {
     "data": {
      "text/html": [
       "<div>\n",
       "<table border=\"1\" class=\"dataframe\">\n",
       "  <thead>\n",
       "    <tr style=\"text-align: right;\">\n",
       "      <th></th>\n",
       "      <th>site_id</th>\n",
       "      <th>strategy_id</th>\n",
       "      <th>list_type</th>\n",
       "      <th>line_id</th>\n",
       "      <th>adv_id</th>\n",
       "      <th>adv_vertical</th>\n",
       "      <th>name</th>\n",
       "      <th>goal</th>\n",
       "      <th>price</th>\n",
       "      <th>limit</th>\n",
       "      <th>...</th>\n",
       "      <th>win_rate_site</th>\n",
       "      <th>win_rate_strat</th>\n",
       "      <th>cvr_strat</th>\n",
       "      <th>cvr</th>\n",
       "      <th>line_cvr</th>\n",
       "      <th>hist_zscore</th>\n",
       "      <th>overlap</th>\n",
       "      <th>target_variable</th>\n",
       "      <th>win_rate_site_table</th>\n",
       "      <th>win_rate_strat_table</th>\n",
       "    </tr>\n",
       "  </thead>\n",
       "  <tbody>\n",
       "    <tr>\n",
       "      <th>0</th>\n",
       "      <td>82932</td>\n",
       "      <td>313729</td>\n",
       "      <td>testing</td>\n",
       "      <td>20049</td>\n",
       "      <td>206.0</td>\n",
       "      <td>Travel</td>\n",
       "      <td>Nicole</td>\n",
       "      <td>0.0</td>\n",
       "      <td>3.95</td>\n",
       "      <td>10000.0</td>\n",
       "      <td>...</td>\n",
       "      <td>0.423778</td>\n",
       "      <td>0.111431</td>\n",
       "      <td>0.0</td>\n",
       "      <td>0.001197</td>\n",
       "      <td>0.0</td>\n",
       "      <td>2.708366</td>\n",
       "      <td>0.001066</td>\n",
       "      <td>0</td>\n",
       "      <td>0.450094</td>\n",
       "      <td>0.249479</td>\n",
       "    </tr>\n",
       "    <tr>\n",
       "      <th>1</th>\n",
       "      <td>90474</td>\n",
       "      <td>313729</td>\n",
       "      <td>testing</td>\n",
       "      <td>20049</td>\n",
       "      <td>206.0</td>\n",
       "      <td>Travel</td>\n",
       "      <td>Nicole</td>\n",
       "      <td>0.0</td>\n",
       "      <td>3.95</td>\n",
       "      <td>10000.0</td>\n",
       "      <td>...</td>\n",
       "      <td>0.163010</td>\n",
       "      <td>0.111431</td>\n",
       "      <td>0.0</td>\n",
       "      <td>0.001239</td>\n",
       "      <td>0.0</td>\n",
       "      <td>1.188635</td>\n",
       "      <td>0.000703</td>\n",
       "      <td>0</td>\n",
       "      <td>0.158050</td>\n",
       "      <td>0.249479</td>\n",
       "    </tr>\n",
       "    <tr>\n",
       "      <th>2</th>\n",
       "      <td>92345</td>\n",
       "      <td>313729</td>\n",
       "      <td>testing</td>\n",
       "      <td>20049</td>\n",
       "      <td>206.0</td>\n",
       "      <td>Travel</td>\n",
       "      <td>Nicole</td>\n",
       "      <td>0.0</td>\n",
       "      <td>3.95</td>\n",
       "      <td>10000.0</td>\n",
       "      <td>...</td>\n",
       "      <td>0.318358</td>\n",
       "      <td>0.111431</td>\n",
       "      <td>0.0</td>\n",
       "      <td>0.000729</td>\n",
       "      <td>0.0</td>\n",
       "      <td>1.503285</td>\n",
       "      <td>0.000873</td>\n",
       "      <td>0</td>\n",
       "      <td>0.360591</td>\n",
       "      <td>0.249479</td>\n",
       "    </tr>\n",
       "    <tr>\n",
       "      <th>3</th>\n",
       "      <td>92415</td>\n",
       "      <td>313729</td>\n",
       "      <td>testing</td>\n",
       "      <td>20049</td>\n",
       "      <td>206.0</td>\n",
       "      <td>Travel</td>\n",
       "      <td>Nicole</td>\n",
       "      <td>0.0</td>\n",
       "      <td>3.95</td>\n",
       "      <td>10000.0</td>\n",
       "      <td>...</td>\n",
       "      <td>0.133199</td>\n",
       "      <td>0.111431</td>\n",
       "      <td>0.0</td>\n",
       "      <td>0.005894</td>\n",
       "      <td>0.0</td>\n",
       "      <td>35.153628</td>\n",
       "      <td>0.004614</td>\n",
       "      <td>0</td>\n",
       "      <td>0.113717</td>\n",
       "      <td>0.249479</td>\n",
       "    </tr>\n",
       "    <tr>\n",
       "      <th>4</th>\n",
       "      <td>92425</td>\n",
       "      <td>313729</td>\n",
       "      <td>testing</td>\n",
       "      <td>20049</td>\n",
       "      <td>206.0</td>\n",
       "      <td>Travel</td>\n",
       "      <td>Nicole</td>\n",
       "      <td>0.0</td>\n",
       "      <td>3.95</td>\n",
       "      <td>10000.0</td>\n",
       "      <td>...</td>\n",
       "      <td>0.379310</td>\n",
       "      <td>0.111431</td>\n",
       "      <td>0.0</td>\n",
       "      <td>0.000000</td>\n",
       "      <td>0.0</td>\n",
       "      <td>-0.091378</td>\n",
       "      <td>0.000344</td>\n",
       "      <td>0</td>\n",
       "      <td>0.019308</td>\n",
       "      <td>0.249479</td>\n",
       "    </tr>\n",
       "  </tbody>\n",
       "</table>\n",
       "<p>5 rows × 26 columns</p>\n",
       "</div>"
      ],
      "text/plain": [
       "   site_id  strategy_id list_type  line_id  adv_id adv_vertical    name  goal  \\\n",
       "0    82932       313729   testing    20049   206.0       Travel  Nicole   0.0   \n",
       "1    90474       313729   testing    20049   206.0       Travel  Nicole   0.0   \n",
       "2    92345       313729   testing    20049   206.0       Travel  Nicole   0.0   \n",
       "3    92415       313729   testing    20049   206.0       Travel  Nicole   0.0   \n",
       "4    92425       313729   testing    20049   206.0       Travel  Nicole   0.0   \n",
       "\n",
       "   price    limit          ...           win_rate_site  win_rate_strat  \\\n",
       "0   3.95  10000.0          ...                0.423778        0.111431   \n",
       "1   3.95  10000.0          ...                0.163010        0.111431   \n",
       "2   3.95  10000.0          ...                0.318358        0.111431   \n",
       "3   3.95  10000.0          ...                0.133199        0.111431   \n",
       "4   3.95  10000.0          ...                0.379310        0.111431   \n",
       "\n",
       "   cvr_strat       cvr  line_cvr  hist_zscore   overlap  target_variable  \\\n",
       "0        0.0  0.001197       0.0     2.708366  0.001066                0   \n",
       "1        0.0  0.001239       0.0     1.188635  0.000703                0   \n",
       "2        0.0  0.000729       0.0     1.503285  0.000873                0   \n",
       "3        0.0  0.005894       0.0    35.153628  0.004614                0   \n",
       "4        0.0  0.000000       0.0    -0.091378  0.000344                0   \n",
       "\n",
       "   win_rate_site_table  win_rate_strat_table  \n",
       "0             0.450094              0.249479  \n",
       "1             0.158050              0.249479  \n",
       "2             0.360591              0.249479  \n",
       "3             0.113717              0.249479  \n",
       "4             0.019308              0.249479  \n",
       "\n",
       "[5 rows x 26 columns]"
      ]
     },
     "execution_count": 3,
     "metadata": {},
     "output_type": "execute_result"
    }
   ],
   "source": [
    "df = pd.read_csv('../data/sample_data.csv', sep = ',', header = 0, index_col = 0)\n",
    "df.head()"
   ]
  },
  {
   "cell_type": "markdown",
   "metadata": {},
   "source": [
    "## Drop DF rows according to a condition"
   ]
  },
  {
   "cell_type": "code",
   "execution_count": 4,
   "metadata": {
    "collapsed": false
   },
   "outputs": [
    {
     "data": {
      "text/plain": [
       "array(['Nicole', 'Ian'], dtype=object)"
      ]
     },
     "execution_count": 4,
     "metadata": {},
     "output_type": "execute_result"
    }
   ],
   "source": [
    "# drop all records that are not associated with Ian or Nicole\n",
    "Ian_and_Nicole = df.drop(df[ ~ (df['name'].str.contains('Ian') | df['name'].str.contains('Nicole'))].index)\n",
    "Ian_and_Nicole['name'].unique()"
   ]
  },
  {
   "cell_type": "markdown",
   "metadata": {},
   "source": [
    "## Sort a dataframe"
   ]
  },
  {
   "cell_type": "code",
   "execution_count": 5,
   "metadata": {
    "collapsed": false
   },
   "outputs": [
    {
     "data": {
      "text/html": [
       "<div>\n",
       "<table border=\"1\" class=\"dataframe\">\n",
       "  <thead>\n",
       "    <tr style=\"text-align: right;\">\n",
       "      <th></th>\n",
       "      <th>site_id</th>\n",
       "      <th>strategy_id</th>\n",
       "      <th>list_type</th>\n",
       "      <th>line_id</th>\n",
       "      <th>adv_id</th>\n",
       "      <th>adv_vertical</th>\n",
       "      <th>name</th>\n",
       "      <th>goal</th>\n",
       "      <th>price</th>\n",
       "      <th>limit</th>\n",
       "      <th>...</th>\n",
       "      <th>win_rate_site</th>\n",
       "      <th>win_rate_strat</th>\n",
       "      <th>cvr_strat</th>\n",
       "      <th>cvr</th>\n",
       "      <th>line_cvr</th>\n",
       "      <th>hist_zscore</th>\n",
       "      <th>overlap</th>\n",
       "      <th>target_variable</th>\n",
       "      <th>win_rate_site_table</th>\n",
       "      <th>win_rate_strat_table</th>\n",
       "    </tr>\n",
       "  </thead>\n",
       "  <tbody>\n",
       "    <tr>\n",
       "      <th>0</th>\n",
       "      <td>1114119077</td>\n",
       "      <td>359117</td>\n",
       "      <td>testing</td>\n",
       "      <td>29695</td>\n",
       "      <td>658.0</td>\n",
       "      <td>Automotive</td>\n",
       "      <td>Edward</td>\n",
       "      <td>35.0</td>\n",
       "      <td>3.24</td>\n",
       "      <td>75000.0</td>\n",
       "      <td>...</td>\n",
       "      <td>0.352060</td>\n",
       "      <td>0.146937</td>\n",
       "      <td>0.000235</td>\n",
       "      <td>0.002625</td>\n",
       "      <td>0.000157</td>\n",
       "      <td>16.512526</td>\n",
       "      <td>0.001697</td>\n",
       "      <td>0</td>\n",
       "      <td>0.361192</td>\n",
       "      <td>0.156831</td>\n",
       "    </tr>\n",
       "    <tr>\n",
       "      <th>1</th>\n",
       "      <td>1104262560</td>\n",
       "      <td>359117</td>\n",
       "      <td>testing</td>\n",
       "      <td>29695</td>\n",
       "      <td>658.0</td>\n",
       "      <td>Automotive</td>\n",
       "      <td>Edward</td>\n",
       "      <td>35.0</td>\n",
       "      <td>3.24</td>\n",
       "      <td>75000.0</td>\n",
       "      <td>...</td>\n",
       "      <td>NaN</td>\n",
       "      <td>0.146937</td>\n",
       "      <td>0.000235</td>\n",
       "      <td>0.001369</td>\n",
       "      <td>0.000157</td>\n",
       "      <td>12.733262</td>\n",
       "      <td>0.030301</td>\n",
       "      <td>0</td>\n",
       "      <td>0.195153</td>\n",
       "      <td>0.156831</td>\n",
       "    </tr>\n",
       "    <tr>\n",
       "      <th>2</th>\n",
       "      <td>1102384171</td>\n",
       "      <td>359117</td>\n",
       "      <td>testing</td>\n",
       "      <td>29695</td>\n",
       "      <td>658.0</td>\n",
       "      <td>Automotive</td>\n",
       "      <td>Edward</td>\n",
       "      <td>35.0</td>\n",
       "      <td>3.24</td>\n",
       "      <td>75000.0</td>\n",
       "      <td>...</td>\n",
       "      <td>0.526733</td>\n",
       "      <td>0.146937</td>\n",
       "      <td>0.000235</td>\n",
       "      <td>0.002047</td>\n",
       "      <td>0.000157</td>\n",
       "      <td>32.661064</td>\n",
       "      <td>0.014129</td>\n",
       "      <td>0</td>\n",
       "      <td>0.499383</td>\n",
       "      <td>0.156831</td>\n",
       "    </tr>\n",
       "    <tr>\n",
       "      <th>3</th>\n",
       "      <td>1099671672</td>\n",
       "      <td>359117</td>\n",
       "      <td>testing</td>\n",
       "      <td>29695</td>\n",
       "      <td>658.0</td>\n",
       "      <td>Automotive</td>\n",
       "      <td>Edward</td>\n",
       "      <td>35.0</td>\n",
       "      <td>3.24</td>\n",
       "      <td>75000.0</td>\n",
       "      <td>...</td>\n",
       "      <td>0.065434</td>\n",
       "      <td>0.146937</td>\n",
       "      <td>0.000235</td>\n",
       "      <td>0.001479</td>\n",
       "      <td>0.000157</td>\n",
       "      <td>4.129372</td>\n",
       "      <td>0.003913</td>\n",
       "      <td>0</td>\n",
       "      <td>0.055280</td>\n",
       "      <td>0.156831</td>\n",
       "    </tr>\n",
       "    <tr>\n",
       "      <th>4</th>\n",
       "      <td>1097198698</td>\n",
       "      <td>359117</td>\n",
       "      <td>testing</td>\n",
       "      <td>29695</td>\n",
       "      <td>658.0</td>\n",
       "      <td>Automotive</td>\n",
       "      <td>Edward</td>\n",
       "      <td>35.0</td>\n",
       "      <td>3.24</td>\n",
       "      <td>75000.0</td>\n",
       "      <td>...</td>\n",
       "      <td>0.026784</td>\n",
       "      <td>0.146937</td>\n",
       "      <td>0.000235</td>\n",
       "      <td>0.003135</td>\n",
       "      <td>0.000157</td>\n",
       "      <td>91.398970</td>\n",
       "      <td>0.163626</td>\n",
       "      <td>0</td>\n",
       "      <td>0.033759</td>\n",
       "      <td>0.156831</td>\n",
       "    </tr>\n",
       "  </tbody>\n",
       "</table>\n",
       "<p>5 rows × 26 columns</p>\n",
       "</div>"
      ],
      "text/plain": [
       "      site_id  strategy_id list_type  line_id  adv_id adv_vertical    name  \\\n",
       "0  1114119077       359117   testing    29695   658.0   Automotive  Edward   \n",
       "1  1104262560       359117   testing    29695   658.0   Automotive  Edward   \n",
       "2  1102384171       359117   testing    29695   658.0   Automotive  Edward   \n",
       "3  1099671672       359117   testing    29695   658.0   Automotive  Edward   \n",
       "4  1097198698       359117   testing    29695   658.0   Automotive  Edward   \n",
       "\n",
       "   goal  price    limit          ...           win_rate_site  win_rate_strat  \\\n",
       "0  35.0   3.24  75000.0          ...                0.352060        0.146937   \n",
       "1  35.0   3.24  75000.0          ...                     NaN        0.146937   \n",
       "2  35.0   3.24  75000.0          ...                0.526733        0.146937   \n",
       "3  35.0   3.24  75000.0          ...                0.065434        0.146937   \n",
       "4  35.0   3.24  75000.0          ...                0.026784        0.146937   \n",
       "\n",
       "   cvr_strat       cvr  line_cvr  hist_zscore   overlap  target_variable  \\\n",
       "0   0.000235  0.002625  0.000157    16.512526  0.001697                0   \n",
       "1   0.000235  0.001369  0.000157    12.733262  0.030301                0   \n",
       "2   0.000235  0.002047  0.000157    32.661064  0.014129                0   \n",
       "3   0.000235  0.001479  0.000157     4.129372  0.003913                0   \n",
       "4   0.000235  0.003135  0.000157    91.398970  0.163626                0   \n",
       "\n",
       "   win_rate_site_table  win_rate_strat_table  \n",
       "0             0.361192              0.156831  \n",
       "1             0.195153              0.156831  \n",
       "2             0.499383              0.156831  \n",
       "3             0.055280              0.156831  \n",
       "4             0.033759              0.156831  \n",
       "\n",
       "[5 rows x 26 columns]"
      ]
     },
     "execution_count": 5,
     "metadata": {},
     "output_type": "execute_result"
    }
   ],
   "source": [
    "df.sort_values(by = ['line_id', 'strategy_id', 'site_id'], ascending = False, axis = 0, inplace=True)\n",
    "df.reset_index(drop = True, inplace = True)\n",
    "df.head()"
   ]
  },
  {
   "cell_type": "markdown",
   "metadata": {},
   "source": [
    "## Fill NA values\n",
    "\n",
    "With the most commonly occurring value:"
   ]
  },
  {
   "cell_type": "code",
   "execution_count": 6,
   "metadata": {
    "collapsed": false
   },
   "outputs": [],
   "source": [
    "df['win_rate_site'].fillna(df['win_rate_site'].value_counts().idxmax(), inplace = True)"
   ]
  },
  {
   "cell_type": "markdown",
   "metadata": {},
   "source": [
    "## Create a column conditional on the values of another column"
   ]
  },
  {
   "cell_type": "code",
   "execution_count": 8,
   "metadata": {
    "collapsed": false
   },
   "outputs": [
    {
     "ename": "ImportError",
     "evalue": "No module named pandas_helper",
     "output_type": "error",
     "traceback": [
      "\u001b[0;31m---------------------------------------------------------------------------\u001b[0m",
      "\u001b[0;31mImportError\u001b[0m                               Traceback (most recent call last)",
      "\u001b[0;32m<ipython-input-8-902b037de38d>\u001b[0m in \u001b[0;36m<module>\u001b[0;34m()\u001b[0m\n\u001b[0;32m----> 1\u001b[0;31m \u001b[0;32mimport\u001b[0m \u001b[0mpandas_helper\u001b[0m \u001b[0;32mas\u001b[0m \u001b[0mph\u001b[0m\u001b[0;34m\u001b[0m\u001b[0m\n\u001b[0m\u001b[1;32m      2\u001b[0m \u001b[0mgroup_names\u001b[0m \u001b[0;34m=\u001b[0m \u001b[0;34m[\u001b[0m\u001b[0;34m'Low'\u001b[0m\u001b[0;34m,\u001b[0m \u001b[0;34m'Okay'\u001b[0m\u001b[0;34m,\u001b[0m \u001b[0;34m'Good'\u001b[0m\u001b[0;34m,\u001b[0m \u001b[0;34m'Great'\u001b[0m\u001b[0;34m]\u001b[0m\u001b[0;34m\u001b[0m\u001b[0m\n\u001b[1;32m      3\u001b[0m \u001b[0mpd\u001b[0m\u001b[0;34m.\u001b[0m\u001b[0mpct_rank_qcut\u001b[0m\u001b[0;34m(\u001b[0m\u001b[0mdf\u001b[0m\u001b[0;34m[\u001b[0m\u001b[0;34m'cvr'\u001b[0m\u001b[0;34m]\u001b[0m\u001b[0;34m,\u001b[0m \u001b[0;36m4\u001b[0m\u001b[0;34m)\u001b[0m\u001b[0;34m\u001b[0m\u001b[0m\n",
      "\u001b[0;31mImportError\u001b[0m: No module named pandas_helper"
     ]
    }
   ],
   "source": [
    "import pandas_helper as ph\n",
    "group_names = ['Low', 'Okay', 'Good', 'Great']\n",
    "pd.pct_rank_qcut(df['cvr'], 4)"
   ]
  },
  {
   "cell_type": "code",
   "execution_count": null,
   "metadata": {
    "collapsed": true
   },
   "outputs": [],
   "source": [
    "# for a string condition (results in True/False)\n",
    "df['auto'] = df['adv_vertical'].str.contains('*Auto*')\n",
    "\n",
    "# for a continuous value\n",
    "df['test'] = df['']"
   ]
  },
  {
   "cell_type": "markdown",
   "metadata": {},
   "source": [
    "# Apply a dictionary of operations to different columns"
   ]
  },
  {
   "cell_type": "code",
   "execution_count": null,
   "metadata": {
    "collapsed": true
   },
   "outputs": [],
   "source": [
    "apply_dict = {'num_bids': sum, 'num_won':sum, 'pct_won': pct_won, 'avg_bid':w_avg_bid, 'avg_paid': w_avg_paid, 'imps':sum, \n",
    "              'clicks': sum, 'CTR': ctr, 'cons':sum, 'vts':sum, 'eCPM':np.average, 'eCPA':ecpa, 'revenue':revenue, \n",
    "             'total_spend':sum, 'profit':sum, 'margin': margin}\n",
    "\n",
    "df['strategy_name'] = df['strategy_name'].str.replace(test_tag, '')\n",
    "df['strategy_name'] = df['strategy_name'].str.replace(control_tag, '')\n",
    "df['strategy_name'] = df['strategy_name'].str.replace(' \\(copy\\)', '')\n",
    "df['strategy_name'] = df['strategy_name'].map(lambda l: convert_to_minutes(l))\n",
    "\n",
    "results = df.groupby(by=['test', 'strategy_id', 'strategy_name'], as_index = False).agg(apply_dict)"
   ]
  },
  {
   "cell_type": "markdown",
   "metadata": {},
   "source": [
    "# Save results"
   ]
  },
  {
   "cell_type": "code",
   "execution_count": null,
   "metadata": {
    "collapsed": true
   },
   "outputs": [],
   "source": [
    "results.to_csv('demand-rtb-report_output.csv', sep = ',', header = True, index = False)\n",
    "\n",
    "results"
   ]
  }
 ],
 "metadata": {
  "kernelspec": {
   "display_name": "Python 2",
   "language": "python",
   "name": "python2"
  },
  "language_info": {
   "codemirror_mode": {
    "name": "ipython",
    "version": 2
   },
   "file_extension": ".py",
   "mimetype": "text/x-python",
   "name": "python",
   "nbconvert_exporter": "python",
   "pygments_lexer": "ipython2",
   "version": "2.7.10"
  }
 },
 "nbformat": 4,
 "nbformat_minor": 0
}
