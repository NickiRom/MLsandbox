{
 "cells": [
  {
   "cell_type": "markdown",
   "metadata": {},
   "source": [
    "#### Binary target variable\n",
    "\n",
    "Try logistic regression, probit\n",
    "\n",
    "#### Categorical target variable\n",
    "\n",
    "- Try multinomial logistic regression in R\n",
    "- Naive Bayes\n",
    "- Linear Discriminant Analysis and Quadratic Discriminant Analysis (LDA and QDA)\n",
    "- Decision Trees or Random Forests\n",
    "- k-Nearest Neighbors\n",
    "\n",
    "#### Ordinal target variable\n",
    "\n",
    "Try an ordinal logistic regression. Mord offers a newer [python implementation](http://pythonhosted.org/mord/), but it may be wise to do this using a [Proportional Odds Logistic Regression in R](https://stat.ethz.ch/R-manual/R-devel/library/MASS/html/polr.html) "
   ]
  },
  {
   "cell_type": "markdown",
   "metadata": {},
   "source": [
    "## Generative versus Discriminative Models\n",
    "\n",
    "#### Generative models\n",
    "Attempt to model the conditional probability and prior distribution functions of all features in order to understand the most likely outcome, given a set of features. \n",
    "\n",
    "$$ P(y|X) = \\frac{P(X|y)P(y)}{P(X)}$$\n",
    "**Bonus 1: ** If you create a generative model, you can use the prior distributions to *generate* synthetic data\n",
    "\n",
    "**Bonus 2: ** Generative models typically outperform Discriminative models for smaller datasets, as they are less prone to overfitting\n",
    "\n",
    "#### Examples of generative models\n",
    "- Naive Bayes\n",
    "- LDA and QDA\n",
    "\n",
    "#### Discriminative models\n",
    "Attempt to find a discriminative boundary between classes by directly estimating posterior possibilities.\n",
    "$$ P(y|X) $$\n",
    "\n",
    "**Bonus 1: ** Tend to outperform generative models with larger datasets, as they learn P(y|X) directly\n",
    "\n",
    "**Bonus 2: ** Discriminative models do not require as many assumptions about the joint distribution structure of your features, such as their conditional independence.\n",
    "\n",
    "#### Examples of discriminative models\n",
    "- Logistic Regression\n",
    "- SVM\n",
    "- kNN\n",
    "- neural networks\n",
    "\n",
    "#### More details on [Stats.StackExchange](http://stats.stackexchange.com/questions/12421/generative-vs-discriminative)"
   ]
  },
  {
   "cell_type": "code",
   "execution_count": null,
   "metadata": {
    "collapsed": true
   },
   "outputs": [],
   "source": []
  }
 ],
 "metadata": {
  "kernelspec": {
   "display_name": "Python 2",
   "language": "python",
   "name": "python2"
  },
  "language_info": {
   "codemirror_mode": {
    "name": "ipython",
    "version": 2
   },
   "file_extension": ".py",
   "mimetype": "text/x-python",
   "name": "python",
   "nbconvert_exporter": "python",
   "pygments_lexer": "ipython2",
   "version": "2.7.10"
  }
 },
 "nbformat": 4,
 "nbformat_minor": 1
}
